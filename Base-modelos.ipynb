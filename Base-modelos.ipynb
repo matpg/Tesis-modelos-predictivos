{
 "cells": [
  {
   "cell_type": "code",
   "execution_count": 18,
   "metadata": {
    "executionInfo": {
     "elapsed": 3510,
     "status": "ok",
     "timestamp": 1608487528708,
     "user": {
      "displayName": "Daniel Muller",
      "photoUrl": "https://lh4.googleusercontent.com/-e8X2R53Jn7c/AAAAAAAAAAI/AAAAAAAAihw/wh30qwZZfIU/s64/photo.jpg",
      "userId": "10394194769251355223"
     },
     "user_tz": 180
    },
    "id": "9-b5VhI2W46o"
   },
   "outputs": [],
   "source": [
    "import tensorflow as tf\n",
    "import pandas as pd\n",
    "import numpy as np\n",
    "import datetime\n",
    "import matplotlib.pyplot as plt\n",
    "from sklearn.impute import KNNImputer"
   ]
  },
  {
   "cell_type": "code",
   "execution_count": 19,
   "metadata": {
    "executionInfo": {
     "elapsed": 47776,
     "status": "ok",
     "timestamp": 1608487573008,
     "user": {
      "displayName": "Daniel Muller",
      "photoUrl": "https://lh4.googleusercontent.com/-e8X2R53Jn7c/AAAAAAAAAAI/AAAAAAAAihw/wh30qwZZfIU/s64/photo.jpg",
      "userId": "10394194769251355223"
     },
     "user_tz": 180
    },
    "id": "w55KBb8asC0z"
   },
   "outputs": [],
   "source": [
    "# Abrir archivo\n",
    "data = pd.read_csv('12_Serie_tiempo.csv', sep=';', decimal=',')\n",
    "data = data.drop(\"fest\", axis=1)\n",
    "data.rename( columns={'Unnamed: 0':'ID'}, inplace=True )\n",
    "# Elimina los valores muy bajos segun el rango inter cuartil\n",
    "nan= np.nan\n",
    "for column in data:\n",
    "  if(data.dtypes[column] == float):\n",
    "    Q1=np.percentile(data[column],25)\n",
    "    Q3=np.percentile(data[column],75)\n",
    "    r_inter_q = Q3-Q1\n",
    "    umbralsup= Q3 + 1.5*r_inter_q\n",
    "    umbralinf= Q1 - 1.5*r_inter_q\n",
    "    for i in data[column]:\n",
    "      if(i<=umbralinf):\n",
    "        data[column] = data[column].replace([i], nan)\n",
    "#    else if(i>=umbralsup):\n",
    "#        data[column] = data[column].replace([i], nan)\n",
    "\n",
    "#Establece valores eliminados por el promedio de sus vecinos\n",
    "imputer = KNNImputer(n_neighbors=2, weights=\"uniform\")\n",
    "df1 = data.drop(columns=[\"ID\", \"Fecha\", \"Horas\", \"Agno\", \"Mes\", \"Dia_mes\", \"Dia_sem\"])\n",
    "data[df1.keys()]= imputer.fit_transform(df1)\n",
    "data_modelo = pd.DataFrame(data, columns = [\"Fecha\", \"Agno\", \"Mes\",\"Horas\",\"Dia_sem\", \"Dia_mes\"])\n",
    "data_modelo[\"Fecha\"]=data_modelo[\"Fecha\"].apply(lambda x:datetime.datetime.strptime(x, '%d-%m-%Y'))\n",
    "data_modelo[\"Dia_ango\"]=data_modelo[\"Fecha\"].apply(lambda x: x.dayofyear)\n",
    "data_modelo= data_modelo.drop(columns=\"Fecha\")\n",
    "data_modelo[df1.keys()]= data[df1.keys()]"
   ]
  },
  {
   "cell_type": "code",
   "execution_count": 20,
   "metadata": {
    "executionInfo": {
     "elapsed": 48453,
     "status": "ok",
     "timestamp": 1608487573699,
     "user": {
      "displayName": "Daniel Muller",
      "photoUrl": "https://lh4.googleusercontent.com/-e8X2R53Jn7c/AAAAAAAAAAI/AAAAAAAAihw/wh30qwZZfIU/s64/photo.jpg",
      "userId": "10394194769251355223"
     },
     "user_tz": 180
    },
    "id": "HCut7hxt1Ttb"
   },
   "outputs": [],
   "source": [
    "def series_to_supervised(data, n_in=1, n_out=1, dropnan=True):\n",
    "\tn_vars = 1 if type(data) is list else data.shape[1]\n",
    "\tdff = pd.DataFrame(data)\n",
    "\tcols, names = list(), list()\n",
    "\t# input sequence (t-n, ... t-1)\n",
    "\tfor i in range(n_in, 0, -1):\n",
    "\t\tcols.append(dff.shift(i))\n",
    "\t\tnames += [('var%d(t-%d)' % (j+1, i)) for j in range(n_vars)]\n",
    "\t# forecast sequence (t, t+1, ... t+n)\n",
    "\tfor i in range(0, n_out):\n",
    "\t\tcols.append(dff.shift(-i))\n",
    "\t\tif i == 0:\n",
    "\t\t\tnames += [('var%d(t)' % (j+1)) for j in range(n_vars)]\n",
    "\t\telse:\n",
    "\t\t\tnames += [('var%d(t+%d)' % (j+1, i)) for j in range(n_vars)]\n",
    "\t# put it all together\n",
    "\tagg = pd.concat(cols, axis=1)\n",
    "\tagg.columns = names\n",
    "\t# drop rows with NaN values\n",
    "\tif dropnan:\n",
    "\t\tagg.dropna(inplace=True)\n",
    "\treturn agg"
   ]
  },
  {
   "cell_type": "code",
   "execution_count": 21,
   "metadata": {
    "colab": {
     "base_uri": "https://localhost:8080/"
    },
    "executionInfo": {
     "elapsed": 1396,
     "status": "ok",
     "timestamp": 1608489232810,
     "user": {
      "displayName": "Daniel Muller",
      "photoUrl": "https://lh4.googleusercontent.com/-e8X2R53Jn7c/AAAAAAAAAAI/AAAAAAAAihw/wh30qwZZfIU/s64/photo.jpg",
      "userId": "10394194769251355223"
     },
     "user_tz": 180
    },
    "id": "WzK_FqGp2rEb",
    "outputId": "ac3bc7eb-5fa6-4f85-ebca-b24713acb92d"
   },
   "outputs": [
    {
     "name": "stdout",
     "output_type": "stream",
     "text": [
      "(321024, 13)\n"
     ]
    }
   ],
   "source": [
    "i=0\n",
    "# datatot=[]\n",
    "#Asumo 13 horas en total en cada registro: 12 de entrada y 1 de salida.\n",
    "datatot = np.empty((0,13))\n",
    "for col in data_modelo.columns:\n",
    "    i=i+1 \n",
    "    # print(col)\n",
    "    #Solo columnas numericas\n",
    "    if i>6:\n",
    "      #recover column of data\n",
    "      a=data_modelo.iloc[:,i-1].to_numpy()\n",
    "      a = np.expand_dims(a, axis=1)\n",
    "      # print(type(a))\n",
    "      # print(a.shape)\n",
    "      b=series_to_supervised(a, n_in=12, n_out=1, dropnan=True)\n",
    "      # print(b.shape)\n",
    "      # datatot.append(b)\n",
    "      # print(\"XXXXXXXX\")\n",
    "      datatot=np.vstack((datatot, b))\n",
    "print(datatot.shape)"
   ]
  },
  {
   "cell_type": "code",
   "execution_count": 22,
   "metadata": {
    "colab": {
     "base_uri": "https://localhost:8080/"
    },
    "executionInfo": {
     "elapsed": 751,
     "status": "ok",
     "timestamp": 1608489234662,
     "user": {
      "displayName": "Daniel Muller",
      "photoUrl": "https://lh4.googleusercontent.com/-e8X2R53Jn7c/AAAAAAAAAAI/AAAAAAAAihw/wh30qwZZfIU/s64/photo.jpg",
      "userId": "10394194769251355223"
     },
     "user_tz": 180
    },
    "id": "iJohzATb9QtH",
    "outputId": "81dc7fd4-fa2c-4b30-8908-8453537a87a9"
   },
   "outputs": [
    {
     "name": "stdout",
     "output_type": "stream",
     "text": [
      "<class 'numpy.ndarray'>\n"
     ]
    }
   ],
   "source": [
    "from sklearn.preprocessing import MinMaxScaler\n",
    "#scaling by hour -> It suppose to be \n",
    "#el mismo rango para las 13 horas. Como sea si hubieran mas variables, hay que repensar normalizacion, posiblemente habria que usar otro metodo.\n",
    "#https://stackoverflow.com/questions/55226959/normalize-a-multidimensional-array\n",
    "scaler = MinMaxScaler(feature_range=(0, 1))\n",
    "values = scaler.fit_transform(datatot)\n",
    "#print(datatot.shape)\n",
    "print(type(datatot))"
   ]
  },
  {
   "cell_type": "code",
   "execution_count": 23,
   "metadata": {
    "colab": {
     "base_uri": "https://localhost:8080/"
    },
    "executionInfo": {
     "elapsed": 737,
     "status": "ok",
     "timestamp": 1608489236549,
     "user": {
      "displayName": "Daniel Muller",
      "photoUrl": "https://lh4.googleusercontent.com/-e8X2R53Jn7c/AAAAAAAAAAI/AAAAAAAAihw/wh30qwZZfIU/s64/photo.jpg",
      "userId": "10394194769251355223"
     },
     "user_tz": 180
    },
    "id": "QUdFaagEJEJF",
    "outputId": "d7446447-fd4f-4b23-ee6e-103e700d1d25"
   },
   "outputs": [
    {
     "name": "stdout",
     "output_type": "stream",
     "text": [
      "224716\n",
      "(224716, 13)\n",
      "(96308, 13)\n",
      "(224716, 12, 1) (224716,) (96308, 12, 1) (96308,)\n"
     ]
    }
   ],
   "source": [
    "#Separate train/test\n",
    "fils, nvars = values.shape\n",
    "n_train_time = int(np.floor(fils*0.7)) #365*24\n",
    "print(n_train_time)\n",
    "train = values[:n_train_time, :]\n",
    "test = values[n_train_time:, :]\n",
    "print(train.shape)\n",
    "print(test.shape)\n",
    "##test = values[n_train_time:n_test_time, :]\n",
    "# split into input and outputs\n",
    "train_X, train_y = train[:, :-1], train[:, -1]\n",
    "test_X, test_y = test[:, :-1], test[:, -1]\n",
    "# reshape input to be 3D [samples, timesteps, features]\n",
    "train_X = train_X.reshape((train_X.shape[0], train_X.shape[1],1))\n",
    "test_X = test_X.reshape((test_X.shape[0], test_X.shape[1],1))\n",
    "print(train_X.shape, train_y.shape, test_X.shape, test_y.shape) \n",
    "# We reshaped the input into the 3D format as expected by LSTMs, namely [samples, timesteps, features]."
   ]
  },
  {
   "cell_type": "code",
   "execution_count": 24,
   "metadata": {
    "executionInfo": {
     "elapsed": 694,
     "status": "ok",
     "timestamp": 1608492152387,
     "user": {
      "displayName": "Daniel Muller",
      "photoUrl": "https://lh4.googleusercontent.com/-e8X2R53Jn7c/AAAAAAAAAAI/AAAAAAAAihw/wh30qwZZfIU/s64/photo.jpg",
      "userId": "10394194769251355223"
     },
     "user_tz": 180
    },
    "id": "EyPY0h-eKr22"
   },
   "outputs": [],
   "source": [
    "import keras\n",
    "from keras.layers import Dense\n",
    "from keras.models import Sequential\n",
    "from keras.utils import to_categorical\n",
    "from keras.optimizers import SGD \n",
    "from keras.callbacks import EarlyStopping\n",
    "from keras.utils import np_utils\n",
    "import itertools\n",
    "from keras.layers import LSTM\n",
    "from keras.layers.convolutional import Conv1D\n",
    "from keras.layers.convolutional import MaxPooling1D\n",
    "from keras.layers import Dropout\n",
    "from keras.metrics import Accuracy\n",
    "from keras import backend as K\n",
    "from keras.layers import Bidirectional"
   ]
  },
  {
   "cell_type": "code",
   "execution_count": 25,
   "metadata": {},
   "outputs": [],
   "source": [
    "from keras import backend as K\n",
    "\n",
    "def coeff_determination(y_true, y_pred):\n",
    "    SS_res =  K.sum(K.square( y_true-y_pred )) \n",
    "    SS_tot = K.sum(K.square( y_true - K.mean(y_true) ) ) \n",
    "    return ( 1 - SS_res/(SS_tot + K.epsilon()) )"
   ]
  },
  {
   "cell_type": "code",
   "execution_count": 26,
   "metadata": {
    "executionInfo": {
     "elapsed": 966,
     "status": "ok",
     "timestamp": 1608492230341,
     "user": {
      "displayName": "Daniel Muller",
      "photoUrl": "https://lh4.googleusercontent.com/-e8X2R53Jn7c/AAAAAAAAAAI/AAAAAAAAihw/wh30qwZZfIU/s64/photo.jpg",
      "userId": "10394194769251355223"
     },
     "user_tz": 180
    },
    "id": "qDG4DvXlKGVm",
    "scrolled": true
   },
   "outputs": [],
   "source": [
    "model = Sequential()\n",
    "model.add(Bidirectional(LSTM(24, return_sequences=True, input_shape=(train_X.shape[1], train_X.shape[2]))))\n",
    "model.add(Dropout(0.2))\n",
    "model.add(Bidirectional(LSTM(24, return_sequences=True)))\n",
    "model.add(Dropout(0.2))\n",
    "model.add(Bidirectional(LSTM(24)))\n",
    "model.add(Dropout(0.2))\n",
    "model.add(Dense(1))\n",
    "model.compile(loss='mean_squared_error', optimizer='adam', metrics=[coeff_determination])"
   ]
  },
  {
   "cell_type": "code",
   "execution_count": 27,
   "metadata": {
    "colab": {
     "base_uri": "https://localhost:8080/"
    },
    "executionInfo": {
     "elapsed": 1293398,
     "status": "ok",
     "timestamp": 1608493527295,
     "user": {
      "displayName": "Daniel Muller",
      "photoUrl": "https://lh4.googleusercontent.com/-e8X2R53Jn7c/AAAAAAAAAAI/AAAAAAAAihw/wh30qwZZfIU/s64/photo.jpg",
      "userId": "10394194769251355223"
     },
     "user_tz": 180
    },
    "id": "GU4izO2icrb7",
    "outputId": "a74563cc-6e43-4161-923a-f3f0c21498c7"
   },
   "outputs": [
    {
     "name": "stdout",
     "output_type": "stream",
     "text": [
      "Epoch 1/101\n",
      "3512/3512 - 31s - loss: 0.0142 - coeff_determination: -4.0056e-01 - val_loss: 0.0209 - val_coeff_determination: -9.6682e-01\n",
      "Epoch 2/101\n",
      "3512/3512 - 22s - loss: 0.0127 - coeff_determination: -1.7170e-01 - val_loss: 0.0192 - val_coeff_determination: -7.8285e-01\n",
      "Epoch 3/101\n",
      "3512/3512 - 22s - loss: 0.0123 - coeff_determination: -1.3201e-01 - val_loss: 0.0191 - val_coeff_determination: -7.8147e-01\n",
      "Epoch 4/101\n",
      "3512/3512 - 22s - loss: 0.0120 - coeff_determination: -1.0771e-01 - val_loss: 0.0193 - val_coeff_determination: -8.0313e-01\n",
      "Epoch 5/101\n",
      "3512/3512 - 22s - loss: 0.0118 - coeff_determination: -8.6746e-02 - val_loss: 0.0182 - val_coeff_determination: -6.7616e-01\n",
      "Epoch 6/101\n",
      "3512/3512 - 22s - loss: 0.0116 - coeff_determination: -7.4526e-02 - val_loss: 0.0176 - val_coeff_determination: -6.0770e-01\n",
      "Epoch 7/101\n",
      "3512/3512 - 22s - loss: 0.0115 - coeff_determination: -6.5310e-02 - val_loss: 0.0165 - val_coeff_determination: -4.7126e-01\n",
      "Epoch 8/101\n",
      "3512/3512 - 22s - loss: 0.0114 - coeff_determination: -5.5089e-02 - val_loss: 0.0160 - val_coeff_determination: -4.1314e-01\n",
      "Epoch 9/101\n",
      "3512/3512 - 22s - loss: 0.0113 - coeff_determination: -4.8228e-02 - val_loss: 0.0154 - val_coeff_determination: -3.3472e-01\n",
      "Epoch 10/101\n",
      "3512/3512 - 22s - loss: 0.0112 - coeff_determination: -4.4176e-02 - val_loss: 0.0151 - val_coeff_determination: -3.0279e-01\n",
      "Epoch 11/101\n",
      "3512/3512 - 22s - loss: 0.0112 - coeff_determination: -3.9810e-02 - val_loss: 0.0149 - val_coeff_determination: -2.7763e-01\n",
      "Epoch 12/101\n",
      "3512/3512 - 22s - loss: 0.0111 - coeff_determination: -3.5833e-02 - val_loss: 0.0148 - val_coeff_determination: -2.6929e-01\n",
      "Epoch 13/101\n",
      "3512/3512 - 22s - loss: 0.0111 - coeff_determination: -3.4528e-02 - val_loss: 0.0148 - val_coeff_determination: -2.6520e-01\n",
      "Epoch 14/101\n",
      "3512/3512 - 22s - loss: 0.0111 - coeff_determination: -3.2914e-02 - val_loss: 0.0147 - val_coeff_determination: -2.5505e-01\n",
      "Epoch 15/101\n",
      "3512/3512 - 22s - loss: 0.0111 - coeff_determination: -3.0217e-02 - val_loss: 0.0147 - val_coeff_determination: -2.5750e-01\n",
      "Epoch 16/101\n",
      "3512/3512 - 22s - loss: 0.0111 - coeff_determination: -2.9305e-02 - val_loss: 0.0145 - val_coeff_determination: -2.3074e-01\n",
      "Epoch 17/101\n",
      "3512/3512 - 22s - loss: 0.0110 - coeff_determination: -2.6242e-02 - val_loss: 0.0144 - val_coeff_determination: -2.2153e-01\n",
      "Epoch 18/101\n",
      "3512/3512 - 22s - loss: 0.0110 - coeff_determination: -2.5319e-02 - val_loss: 0.0143 - val_coeff_determination: -2.0961e-01\n",
      "Epoch 19/101\n",
      "3512/3512 - 22s - loss: 0.0110 - coeff_determination: -2.3180e-02 - val_loss: 0.0144 - val_coeff_determination: -2.2166e-01\n",
      "Epoch 20/101\n",
      "3512/3512 - 22s - loss: 0.0110 - coeff_determination: -2.2806e-02 - val_loss: 0.0146 - val_coeff_determination: -2.3867e-01\n",
      "Epoch 21/101\n",
      "3512/3512 - 22s - loss: 0.0110 - coeff_determination: -1.9837e-02 - val_loss: 0.0145 - val_coeff_determination: -2.2670e-01\n",
      "Epoch 22/101\n",
      "3512/3512 - 22s - loss: 0.0110 - coeff_determination: -2.1466e-02 - val_loss: 0.0146 - val_coeff_determination: -2.3730e-01\n",
      "Epoch 23/101\n",
      "3512/3512 - 22s - loss: 0.0110 - coeff_determination: -1.9297e-02 - val_loss: 0.0144 - val_coeff_determination: -2.1589e-01\n",
      "Epoch 24/101\n",
      "3512/3512 - 22s - loss: 0.0110 - coeff_determination: -1.8708e-02 - val_loss: 0.0145 - val_coeff_determination: -2.3018e-01\n",
      "Epoch 25/101\n",
      "3512/3512 - 22s - loss: 0.0110 - coeff_determination: -1.8776e-02 - val_loss: 0.0146 - val_coeff_determination: -2.4176e-01\n",
      "Epoch 26/101\n",
      "3512/3512 - 22s - loss: 0.0109 - coeff_determination: -1.6997e-02 - val_loss: 0.0144 - val_coeff_determination: -2.2357e-01\n",
      "Epoch 27/101\n",
      "3512/3512 - 22s - loss: 0.0109 - coeff_determination: -1.7892e-02 - val_loss: 0.0144 - val_coeff_determination: -2.2435e-01\n",
      "Epoch 28/101\n",
      "3512/3512 - 22s - loss: 0.0109 - coeff_determination: -1.6534e-02 - val_loss: 0.0144 - val_coeff_determination: -2.2148e-01\n",
      "Epoch 29/101\n",
      "3512/3512 - 22s - loss: 0.0109 - coeff_determination: -1.5549e-02 - val_loss: 0.0144 - val_coeff_determination: -2.2218e-01\n",
      "Epoch 30/101\n",
      "3512/3512 - 22s - loss: 0.0109 - coeff_determination: -1.4913e-02 - val_loss: 0.0144 - val_coeff_determination: -2.1769e-01\n",
      "Epoch 31/101\n",
      "3512/3512 - 22s - loss: 0.0109 - coeff_determination: -1.3411e-02 - val_loss: 0.0142 - val_coeff_determination: -2.0076e-01\n",
      "Epoch 32/101\n",
      "3512/3512 - 22s - loss: 0.0109 - coeff_determination: -1.2745e-02 - val_loss: 0.0141 - val_coeff_determination: -1.9052e-01\n",
      "Epoch 33/101\n",
      "3512/3512 - 22s - loss: 0.0109 - coeff_determination: -1.1481e-02 - val_loss: 0.0142 - val_coeff_determination: -1.9390e-01\n",
      "Epoch 34/101\n",
      "3512/3512 - 22s - loss: 0.0109 - coeff_determination: -1.0452e-02 - val_loss: 0.0141 - val_coeff_determination: -1.8289e-01\n",
      "Epoch 35/101\n",
      "3512/3512 - 22s - loss: 0.0109 - coeff_determination: -1.0187e-02 - val_loss: 0.0141 - val_coeff_determination: -1.8349e-01\n",
      "Epoch 36/101\n",
      "3512/3512 - 22s - loss: 0.0109 - coeff_determination: -9.5670e-03 - val_loss: 0.0141 - val_coeff_determination: -1.8340e-01\n",
      "Epoch 37/101\n",
      "3512/3512 - 22s - loss: 0.0109 - coeff_determination: -8.3439e-03 - val_loss: 0.0141 - val_coeff_determination: -1.8818e-01\n",
      "Epoch 38/101\n",
      "3512/3512 - 22s - loss: 0.0108 - coeff_determination: -7.5942e-03 - val_loss: 0.0142 - val_coeff_determination: -1.9212e-01\n",
      "Epoch 39/101\n",
      "3512/3512 - 22s - loss: 0.0108 - coeff_determination: -6.7266e-03 - val_loss: 0.0142 - val_coeff_determination: -1.9436e-01\n",
      "Epoch 40/101\n",
      "3512/3512 - 22s - loss: 0.0108 - coeff_determination: -7.5474e-03 - val_loss: 0.0142 - val_coeff_determination: -1.9024e-01\n",
      "Epoch 41/101\n",
      "3512/3512 - 22s - loss: 0.0108 - coeff_determination: -6.6920e-03 - val_loss: 0.0142 - val_coeff_determination: -1.9658e-01\n",
      "Epoch 42/101\n",
      "3512/3512 - 22s - loss: 0.0108 - coeff_determination: -6.7684e-03 - val_loss: 0.0142 - val_coeff_determination: -1.9084e-01\n",
      "Epoch 43/101\n",
      "3512/3512 - 22s - loss: 0.0108 - coeff_determination: -6.1697e-03 - val_loss: 0.0141 - val_coeff_determination: -1.8446e-01\n",
      "Epoch 44/101\n",
      "3512/3512 - 22s - loss: 0.0108 - coeff_determination: -4.5831e-03 - val_loss: 0.0142 - val_coeff_determination: -1.9958e-01\n",
      "Epoch 45/101\n",
      "3512/3512 - 22s - loss: 0.0108 - coeff_determination: -2.8276e-03 - val_loss: 0.0142 - val_coeff_determination: -2.0031e-01\n",
      "Epoch 46/101\n",
      "3512/3512 - 22s - loss: 0.0108 - coeff_determination: -4.2193e-03 - val_loss: 0.0142 - val_coeff_determination: -1.9475e-01\n",
      "Epoch 47/101\n",
      "3512/3512 - 22s - loss: 0.0108 - coeff_determination: -1.9082e-03 - val_loss: 0.0142 - val_coeff_determination: -1.9883e-01\n",
      "Epoch 48/101\n",
      "3512/3512 - 22s - loss: 0.0108 - coeff_determination: -2.2755e-03 - val_loss: 0.0142 - val_coeff_determination: -1.9809e-01\n",
      "Epoch 49/101\n",
      "3512/3512 - 22s - loss: 0.0108 - coeff_determination: -2.4218e-03 - val_loss: 0.0143 - val_coeff_determination: -2.0605e-01\n",
      "Epoch 50/101\n",
      "3512/3512 - 22s - loss: 0.0108 - coeff_determination: -2.4047e-05 - val_loss: 0.0141 - val_coeff_determination: -1.8113e-01\n",
      "Epoch 51/101\n",
      "3512/3512 - 22s - loss: 0.0108 - coeff_determination: -5.1435e-04 - val_loss: 0.0142 - val_coeff_determination: -1.9418e-01\n",
      "Epoch 52/101\n",
      "3512/3512 - 22s - loss: 0.0108 - coeff_determination: -1.4519e-04 - val_loss: 0.0142 - val_coeff_determination: -2.0021e-01\n",
      "Epoch 53/101\n",
      "3512/3512 - 22s - loss: 0.0107 - coeff_determination: -3.4030e-04 - val_loss: 0.0141 - val_coeff_determination: -1.8566e-01\n",
      "Epoch 54/101\n",
      "3512/3512 - 22s - loss: 0.0107 - coeff_determination: 1.9765e-04 - val_loss: 0.0140 - val_coeff_determination: -1.8005e-01\n",
      "Epoch 55/101\n",
      "3512/3512 - 22s - loss: 0.0108 - coeff_determination: -2.7455e-04 - val_loss: 0.0142 - val_coeff_determination: -1.9222e-01\n",
      "Epoch 56/101\n",
      "3512/3512 - 22s - loss: 0.0107 - coeff_determination: 1.6926e-04 - val_loss: 0.0141 - val_coeff_determination: -1.9102e-01\n",
      "Epoch 57/101\n",
      "3512/3512 - 22s - loss: 0.0108 - coeff_determination: -6.8776e-04 - val_loss: 0.0141 - val_coeff_determination: -1.8301e-01\n",
      "Epoch 58/101\n",
      "3512/3512 - 22s - loss: 0.0107 - coeff_determination: 0.0019 - val_loss: 0.0141 - val_coeff_determination: -1.8141e-01\n",
      "Epoch 59/101\n",
      "3512/3512 - 22s - loss: 0.0107 - coeff_determination: 9.4251e-04 - val_loss: 0.0140 - val_coeff_determination: -1.7498e-01\n",
      "Epoch 60/101\n",
      "3512/3512 - 22s - loss: 0.0107 - coeff_determination: 0.0021 - val_loss: 0.0142 - val_coeff_determination: -1.9419e-01\n"
     ]
    },
    {
     "name": "stdout",
     "output_type": "stream",
     "text": [
      "Epoch 61/101\n",
      "3512/3512 - 22s - loss: 0.0107 - coeff_determination: 0.0029 - val_loss: 0.0142 - val_coeff_determination: -2.0389e-01\n",
      "Epoch 62/101\n",
      "3512/3512 - 22s - loss: 0.0107 - coeff_determination: 0.0022 - val_loss: 0.0141 - val_coeff_determination: -1.8649e-01\n",
      "Epoch 63/101\n",
      "3512/3512 - 22s - loss: 0.0107 - coeff_determination: 0.0013 - val_loss: 0.0142 - val_coeff_determination: -1.9315e-01\n",
      "Epoch 64/101\n",
      "3512/3512 - 22s - loss: 0.0107 - coeff_determination: 0.0030 - val_loss: 0.0143 - val_coeff_determination: -2.1207e-01\n",
      "Epoch 65/101\n",
      "3512/3512 - 22s - loss: 0.0107 - coeff_determination: 0.0010 - val_loss: 0.0143 - val_coeff_determination: -2.1009e-01\n",
      "Epoch 66/101\n",
      "3512/3512 - 22s - loss: 0.0107 - coeff_determination: 0.0030 - val_loss: 0.0142 - val_coeff_determination: -1.9339e-01\n",
      "Epoch 67/101\n",
      "3512/3512 - 22s - loss: 0.0107 - coeff_determination: 0.0024 - val_loss: 0.0142 - val_coeff_determination: -2.0090e-01\n",
      "Epoch 68/101\n",
      "3512/3512 - 22s - loss: 0.0107 - coeff_determination: 0.0023 - val_loss: 0.0142 - val_coeff_determination: -1.9793e-01\n",
      "Epoch 69/101\n",
      "3512/3512 - 22s - loss: 0.0107 - coeff_determination: 0.0036 - val_loss: 0.0142 - val_coeff_determination: -1.9868e-01\n",
      "Epoch 70/101\n",
      "3512/3512 - 22s - loss: 0.0107 - coeff_determination: 0.0046 - val_loss: 0.0144 - val_coeff_determination: -2.1891e-01\n",
      "Epoch 71/101\n",
      "3512/3512 - 22s - loss: 0.0107 - coeff_determination: 0.0040 - val_loss: 0.0144 - val_coeff_determination: -2.2037e-01\n",
      "Epoch 72/101\n",
      "3512/3512 - 22s - loss: 0.0107 - coeff_determination: 0.0032 - val_loss: 0.0143 - val_coeff_determination: -2.0892e-01\n",
      "Epoch 73/101\n",
      "3512/3512 - 22s - loss: 0.0107 - coeff_determination: 0.0030 - val_loss: 0.0142 - val_coeff_determination: -1.9954e-01\n",
      "Epoch 74/101\n",
      "3512/3512 - 22s - loss: 0.0107 - coeff_determination: 0.0044 - val_loss: 0.0143 - val_coeff_determination: -2.1074e-01\n",
      "Epoch 75/101\n",
      "3512/3512 - 22s - loss: 0.0107 - coeff_determination: 0.0025 - val_loss: 0.0142 - val_coeff_determination: -1.9984e-01\n",
      "Epoch 76/101\n",
      "3512/3512 - 22s - loss: 0.0107 - coeff_determination: 0.0052 - val_loss: 0.0143 - val_coeff_determination: -1.9918e-01\n",
      "Epoch 77/101\n",
      "3512/3512 - 22s - loss: 0.0107 - coeff_determination: 0.0040 - val_loss: 0.0142 - val_coeff_determination: -1.9649e-01\n",
      "Epoch 78/101\n",
      "3512/3512 - 22s - loss: 0.0107 - coeff_determination: 0.0055 - val_loss: 0.0144 - val_coeff_determination: -2.1733e-01\n",
      "Epoch 79/101\n",
      "3512/3512 - 22s - loss: 0.0107 - coeff_determination: 0.0054 - val_loss: 0.0142 - val_coeff_determination: -1.9222e-01\n",
      "Epoch 80/101\n",
      "3512/3512 - 22s - loss: 0.0107 - coeff_determination: 0.0067 - val_loss: 0.0141 - val_coeff_determination: -1.8181e-01\n",
      "Epoch 81/101\n",
      "3512/3512 - 22s - loss: 0.0107 - coeff_determination: 0.0070 - val_loss: 0.0142 - val_coeff_determination: -1.9252e-01\n",
      "Epoch 82/101\n",
      "3512/3512 - 22s - loss: 0.0107 - coeff_determination: 0.0087 - val_loss: 0.0141 - val_coeff_determination: -1.8788e-01\n",
      "Epoch 83/101\n",
      "3512/3512 - 22s - loss: 0.0107 - coeff_determination: 0.0070 - val_loss: 0.0141 - val_coeff_determination: -1.8461e-01\n",
      "Epoch 84/101\n",
      "3512/3512 - 22s - loss: 0.0107 - coeff_determination: 0.0064 - val_loss: 0.0142 - val_coeff_determination: -1.8959e-01\n",
      "Epoch 85/101\n",
      "3512/3512 - 22s - loss: 0.0107 - coeff_determination: 0.0071 - val_loss: 0.0141 - val_coeff_determination: -1.8353e-01\n",
      "Epoch 86/101\n",
      "3512/3512 - 22s - loss: 0.0107 - coeff_determination: 0.0065 - val_loss: 0.0141 - val_coeff_determination: -1.8715e-01\n",
      "Epoch 87/101\n",
      "3512/3512 - 22s - loss: 0.0107 - coeff_determination: 0.0080 - val_loss: 0.0141 - val_coeff_determination: -1.8934e-01\n",
      "Epoch 88/101\n",
      "3512/3512 - 22s - loss: 0.0107 - coeff_determination: 0.0081 - val_loss: 0.0142 - val_coeff_determination: -1.9578e-01\n",
      "Epoch 89/101\n",
      "3512/3512 - 22s - loss: 0.0107 - coeff_determination: 0.0081 - val_loss: 0.0141 - val_coeff_determination: -1.9106e-01\n",
      "Epoch 90/101\n",
      "3512/3512 - 22s - loss: 0.0106 - coeff_determination: 0.0093 - val_loss: 0.0142 - val_coeff_determination: -1.9754e-01\n",
      "Epoch 91/101\n",
      "3512/3512 - 22s - loss: 0.0106 - coeff_determination: 0.0096 - val_loss: 0.0143 - val_coeff_determination: -2.0863e-01\n",
      "Epoch 92/101\n",
      "3512/3512 - 22s - loss: 0.0107 - coeff_determination: 0.0079 - val_loss: 0.0141 - val_coeff_determination: -1.8931e-01\n",
      "Epoch 93/101\n",
      "3512/3512 - 22s - loss: 0.0107 - coeff_determination: 0.0087 - val_loss: 0.0142 - val_coeff_determination: -1.9154e-01\n",
      "Epoch 94/101\n",
      "3512/3512 - 22s - loss: 0.0106 - coeff_determination: 0.0104 - val_loss: 0.0143 - val_coeff_determination: -2.0137e-01\n",
      "Epoch 95/101\n",
      "3512/3512 - 22s - loss: 0.0107 - coeff_determination: 0.0078 - val_loss: 0.0141 - val_coeff_determination: -1.8716e-01\n",
      "Epoch 96/101\n",
      "3512/3512 - 22s - loss: 0.0106 - coeff_determination: 0.0088 - val_loss: 0.0141 - val_coeff_determination: -1.8398e-01\n",
      "Epoch 97/101\n",
      "3512/3512 - 22s - loss: 0.0106 - coeff_determination: 0.0105 - val_loss: 0.0142 - val_coeff_determination: -2.0165e-01\n",
      "Epoch 98/101\n",
      "3512/3512 - 22s - loss: 0.0106 - coeff_determination: 0.0099 - val_loss: 0.0143 - val_coeff_determination: -2.1085e-01\n",
      "Epoch 99/101\n",
      "3512/3512 - 22s - loss: 0.0107 - coeff_determination: 0.0093 - val_loss: 0.0142 - val_coeff_determination: -1.9220e-01\n",
      "Epoch 100/101\n",
      "3512/3512 - 22s - loss: 0.0107 - coeff_determination: 0.0093 - val_loss: 0.0143 - val_coeff_determination: -2.0561e-01\n",
      "Epoch 101/101\n",
      "3512/3512 - 22s - loss: 0.0106 - coeff_determination: 0.0118 - val_loss: 0.0141 - val_coeff_determination: -1.9186e-01\n"
     ]
    }
   ],
   "source": [
    "# fit network\n",
    "history = model.fit(train_X, train_y, epochs=101, batch_size=64, validation_data=(test_X, test_y), verbose=2, shuffle=False)"
   ]
  },
  {
   "cell_type": "code",
   "execution_count": 28,
   "metadata": {
    "colab": {
     "base_uri": "https://localhost:8080/",
     "height": 295
    },
    "executionInfo": {
     "elapsed": 993,
     "status": "ok",
     "timestamp": 1608493528387,
     "user": {
      "displayName": "Daniel Muller",
      "photoUrl": "https://lh4.googleusercontent.com/-e8X2R53Jn7c/AAAAAAAAAAI/AAAAAAAAihw/wh30qwZZfIU/s64/photo.jpg",
      "userId": "10394194769251355223"
     },
     "user_tz": 180
    },
    "id": "C8ZKFrFWLGHN",
    "outputId": "f7546fe0-ff91-485b-d2cb-a3224f2084ab",
    "scrolled": true
   },
   "outputs": [
    {
     "data": {
      "image/png": "[encoded data removed]",
      "text/plain": [
       "<Figure size 432x288 with 1 Axes>"
      ]
     },
     "metadata": {
      "needs_background": "light"
     },
     "output_type": "display_data"
    }
   ],
   "source": [
    "# summarize history for loss\n",
    "plt.plot(history.history['coeff_determination'])\n",
    "plt.plot(history.history['val_coeff_determination'])\n",
    "plt.plot\n",
    "plt.title('coeff determination')\n",
    "plt.ylabel('value')\n",
    "plt.xlabel('epoch')\n",
    "plt.legend(['train', 'test'], loc='upper right')\n",
    "plt.show()"
   ]
  },
  {
   "cell_type": "code",
   "execution_count": 29,
   "metadata": {
    "colab": {
     "base_uri": "https://localhost:8080/",
     "height": 295
    },
    "executionInfo": {
     "elapsed": 964,
     "status": "ok",
     "timestamp": 1608493528391,
     "user": {
      "displayName": "Daniel Muller",
      "photoUrl": "https://lh4.googleusercontent.com/-e8X2R53Jn7c/AAAAAAAAAAI/AAAAAAAAihw/wh30qwZZfIU/s64/photo.jpg",
      "userId": "10394194769251355223"
     },
     "user_tz": 180
    },
    "id": "qJG3Us2VnU03",
    "outputId": "ef35cf75-a41a-42a1-ad72-72e2d10be8ad",
    "scrolled": true
   },
   "outputs": [
    {
     "data": {
      "image/png": "[encoded data removed]",
      "text/plain": [
       "<Figure size 432x288 with 1 Axes>"
      ]
     },
     "metadata": {
      "needs_background": "light"
     },
     "output_type": "display_data"
    }
   ],
   "source": [
    "plt.plot(history.history['loss'])\n",
    "plt.plot(history.history['val_loss'])\n",
    "plt.plot\n",
    "plt.title('model loss')\n",
    "plt.ylabel('loss')\n",
    "plt.xlabel('epoch')\n",
    "plt.legend(['train', 'test'], loc='upper right')\n",
    "plt.show()"
   ]
  },
  {
   "cell_type": "code",
   "execution_count": 30,
   "metadata": {
    "colab": {
     "base_uri": "https://localhost:8080/"
    },
    "executionInfo": {
     "elapsed": 5372,
     "status": "ok",
     "timestamp": 1608493532810,
     "user": {
      "displayName": "Daniel Muller",
      "photoUrl": "https://lh4.googleusercontent.com/-e8X2R53Jn7c/AAAAAAAAAAI/AAAAAAAAihw/wh30qwZZfIU/s64/photo.jpg",
      "userId": "10394194769251355223"
     },
     "user_tz": 180
    },
    "id": "YB0piGFPLHAh",
    "outputId": "48bc6379-253c-4746-97f2-9237f29923d9"
   },
   "outputs": [
    {
     "name": "stdout",
     "output_type": "stream",
     "text": [
      "(96308, 1)\n",
      "(96308, 12, 1)\n",
      "(96308,)\n",
      "RMSE: 12.958\n",
      "MAPE: 18.239\n",
      "R2AJ: -0.192\n"
     ]
    }
   ],
   "source": [
    "from sklearn.metrics import mean_squared_error,r2_score\n",
    "# make a prediction\n",
    "yhat = model.predict(test_X)\n",
    "print(yhat.shape)\n",
    "yhat = yhat.reshape(yhat.shape[0], yhat.shape[1])\n",
    "test_X_ = test_X.reshape(test_X.shape[0],test_X.shape[1])\n",
    "# invert scaling for forecast\n",
    "print(test_X.shape)\n",
    "inv_yhat = np.concatenate((yhat, test_X_), axis=1)\n",
    "inv_yhat = scaler.inverse_transform(inv_yhat)\n",
    "inv_yhat = inv_yhat[:,0]\n",
    "print(inv_yhat.shape)\n",
    "# invert scaling for actual\n",
    "test_y = test_y.reshape((len(test_y), 1))\n",
    "inv_y = np.concatenate((test_y, test_X_), axis=1)\n",
    "inv_y = scaler.inverse_transform(inv_y)\n",
    "inv_y = inv_y[:,0]\n",
    "# calculate RMSE\n",
    "rmse = np.sqrt(mean_squared_error(inv_y, inv_yhat))\n",
    "print('RMSE: %.3f' % rmse)\n",
    "# MAPE\n",
    "def mean_absolute_percentage_error(y_true, y_pred): \n",
    "    y_true, y_pred = np.array(y_true), np.array(y_pred)\n",
    "    return np.mean(np.abs((y_true - y_pred) / y_true)) * 100\n",
    "mape= mean_absolute_percentage_error(inv_y, inv_yhat)\n",
    "print('MAPE: %.3f' % mape)\n",
    "print('R2AJ: %.3f' % history.history['val_coeff_determination'][-1])"
   ]
  },
  {
   "cell_type": "code",
   "execution_count": 31,
   "metadata": {
    "colab": {
     "base_uri": "https://localhost:8080/",
     "height": 284
    },
    "executionInfo": {
     "elapsed": 1197162,
     "status": "ok",
     "timestamp": 1608488722448,
     "user": {
      "displayName": "Daniel Muller",
      "photoUrl": "https://lh4.googleusercontent.com/-e8X2R53Jn7c/AAAAAAAAAAI/AAAAAAAAihw/wh30qwZZfIU/s64/photo.jpg",
      "userId": "10394194769251355223"
     },
     "user_tz": 180
    },
    "id": "yJ7x8v90LMbO",
    "outputId": "d4dbf695-9367-44f5-c6c7-798d3d0e8bab",
    "scrolled": true
   },
   "outputs": [
    {
     "data": {
      "image/png": "[encoded data removed]",
      "text/plain": [
       "<Figure size 432x288 with 1 Axes>"
      ]
     },
     "metadata": {
      "needs_background": "light"
     },
     "output_type": "display_data"
    }
   ],
   "source": [
    "## time steps, every step is one hour (you can easily convert the time step to the actual time index)\n",
    "## for a demonstration purpose, I only compare the predictions in 200 hours. \n",
    "\n",
    "aa=[x for x in range(200)]\n",
    "plt.plot(aa, inv_y[:200], marker='.', label=\"actual\")\n",
    "plt.plot(aa, inv_yhat[:200], 'r', label=\"prediction\")\n",
    "\n",
    "plt.ylabel('Velocidad', size=15)\n",
    "plt.xlabel('Time step', size=15)\n",
    "plt.legend(fontsize=15)\n",
    "plt.show()"
   ]
  },
  {
   "cell_type": "code",
   "execution_count": 32,
   "metadata": {},
   "outputs": [],
   "source": [
    "from __future__ import absolute_import, division, print_function, unicode_literals\n",
    "\n",
    "import tensorflow as tf\n",
    "\n",
    "tf.keras.backend.clear_session() "
   ]
  },
  {
   "cell_type": "code",
   "execution_count": 33,
   "metadata": {},
   "outputs": [],
   "source": [
    "model.save('LSTM_3_BD_24.h5')"
   ]
  },
  {
   "cell_type": "code",
   "execution_count": 34,
   "metadata": {
    "scrolled": true
   },
   "outputs": [],
   "source": [
    "#new_model = keras.models.load_model('modelo_prueba1.h5', custom_objects={ 'coeff_determination': coeff_determination})\n"
   ]
  },
  {
   "cell_type": "code",
   "execution_count": null,
   "metadata": {},
   "outputs": [],
   "source": []
  }
 ],
 "metadata": {
  "accelerator": "GPU",
  "colab": {
   "collapsed_sections": [],
   "name": "TesisDaniel.ipynb",
   "provenance": []
  },
  "kernelspec": {
   "display_name": "Python [conda env:tf-gpu] *",
   "language": "python",
   "name": "conda-env-tf-gpu-py"
  },
  "language_info": {
   "codemirror_mode": {
    "name": "ipython",
    "version": 3
   },
   "file_extension": ".py",
   "mimetype": "text/x-python",
   "name": "python",
   "nbconvert_exporter": "python",
   "pygments_lexer": "ipython3",
   "version": "3.8.8"
  }
 },
 "nbformat": 4,
 "nbformat_minor": 1
}
