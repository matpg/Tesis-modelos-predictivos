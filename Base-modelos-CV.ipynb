{
 "cells": [
  {
   "cell_type": "code",
   "execution_count": 52,
   "metadata": {
    "executionInfo": {
     "elapsed": 3510,
     "status": "ok",
     "timestamp": 1608487528708,
     "user": {
      "displayName": "Daniel Muller",
      "photoUrl": "https://lh4.googleusercontent.com/-e8X2R53Jn7c/AAAAAAAAAAI/AAAAAAAAihw/wh30qwZZfIU/s64/photo.jpg",
      "userId": "10394194769251355223"
     },
     "user_tz": 180
    },
    "id": "9-b5VhI2W46o"
   },
   "outputs": [],
   "source": [
    "import tensorflow as tf\n",
    "import pandas as pd\n",
    "import numpy as np\n",
    "import datetime\n",
    "import matplotlib.pyplot as plt\n",
    "from sklearn.impute import KNNImputer\n",
    "from sklearn.model_selection import TimeSeriesSplit"
   ]
  },
  {
   "cell_type": "code",
   "execution_count": 36,
   "metadata": {
    "executionInfo": {
     "elapsed": 47776,
     "status": "ok",
     "timestamp": 1608487573008,
     "user": {
      "displayName": "Daniel Muller",
      "photoUrl": "https://lh4.googleusercontent.com/-e8X2R53Jn7c/AAAAAAAAAAI/AAAAAAAAihw/wh30qwZZfIU/s64/photo.jpg",
      "userId": "10394194769251355223"
     },
     "user_tz": 180
    },
    "id": "w55KBb8asC0z"
   },
   "outputs": [],
   "source": [
    "# Abrir archivo\n",
    "data = pd.read_csv('12_Serie_tiempo.csv', sep=';', decimal=',')\n",
    "data = data.drop(\"fest\", axis=1)\n",
    "data.rename( columns={'Unnamed: 0':'ID'}, inplace=True )\n",
    "# Elimina los valores muy bajos segun el rango inter cuartil\n",
    "nan= np.nan\n",
    "for column in data:\n",
    "  if(data.dtypes[column] == float):\n",
    "    Q1=np.percentile(data[column],25)\n",
    "    Q3=np.percentile(data[column],75)\n",
    "    r_inter_q = Q3-Q1\n",
    "    umbralsup= Q3 + 1.5*r_inter_q\n",
    "    umbralinf= Q1 - 1.5*r_inter_q\n",
    "    for i in data[column]:\n",
    "      if(i<=umbralinf):\n",
    "        data[column] = data[column].replace([i], nan)\n",
    "#    else if(i>=umbralsup):\n",
    "#        data[column] = data[column].replace([i], nan)\n",
    "\n",
    "#Establece valores eliminados por el promedio de sus vecinos\n",
    "imputer = KNNImputer(n_neighbors=2, weights=\"uniform\")\n",
    "df1 = data.drop(columns=[\"ID\", \"Fecha\", \"Horas\", \"Agno\", \"Mes\", \"Dia_mes\", \"Dia_sem\"])\n",
    "data[df1.keys()]= imputer.fit_transform(df1)"
   ]
  },
  {
   "cell_type": "code",
   "execution_count": 53,
   "metadata": {
    "scrolled": true
   },
   "outputs": [
    {
     "name": "stdout",
     "output_type": "stream",
     "text": [
      "                   Fecha  Velocidad\n",
      "0    2015-01-01 06:00:00  75.730022\n",
      "1    2015-01-01 07:00:00  68.343475\n",
      "2    2015-01-01 08:00:00  60.736804\n",
      "3    2015-01-01 09:00:00  69.423021\n",
      "4    2015-01-01 10:00:00  70.842642\n",
      "...                  ...        ...\n",
      "7303 2016-12-30 15:00:00  61.538646\n",
      "7304 2016-12-30 16:00:00  67.801911\n",
      "7305 2016-12-30 17:00:00  69.147727\n",
      "7306 2016-12-30 18:00:00  61.880682\n",
      "7307 2016-12-30 19:00:00  63.778409\n",
      "\n",
      "[7308 rows x 2 columns]\n"
     ]
    }
   ],
   "source": [
    "#Fechas y velocidad promedio de los sensores\n",
    "data_modelo = pd.DataFrame(data, columns = [\"Fecha\",\"Horas\"])\n",
    "data_modelo[\"Fecha\"] = data_modelo[\"Fecha\"].astype(str) + \"-\" + data_modelo[\"Horas\"].astype(str)\n",
    "data_modelo[\"Fecha\"]=data_modelo[\"Fecha\"].apply(lambda x:datetime.datetime.strptime(x, '%d-%m-%Y-%H'))\n",
    "data_modelo = data_modelo.drop(columns=\"Horas\")\n",
    "data_modelo[\"Velocidad\"]= data[df1.keys()].mean(axis=1)"
   ]
  },
  {
   "cell_type": "code",
   "execution_count": 57,
   "metadata": {
    "executionInfo": {
     "elapsed": 48453,
     "status": "ok",
     "timestamp": 1608487573699,
     "user": {
      "displayName": "Daniel Muller",
      "photoUrl": "https://lh4.googleusercontent.com/-e8X2R53Jn7c/AAAAAAAAAAI/AAAAAAAAihw/wh30qwZZfIU/s64/photo.jpg",
      "userId": "10394194769251355223"
     },
     "user_tz": 180
    },
    "id": "HCut7hxt1Ttb"
   },
   "outputs": [],
   "source": [
    "def series_to_supervised(data, n_in=1, n_out=1, dropnan=True):\n",
    "\tn_vars = 1 if type(data) is list else data.shape[1]\n",
    "\tdff = pd.DataFrame(data)\n",
    "\tcols, names = list(), list()\n",
    "\t# input sequence (t-n, ... t-1)\n",
    "\tfor i in range(n_in, 0, -1):\n",
    "\t\tcols.append(dff.shift(i))\n",
    "\t\tnames += [('var%d(t-%d)' % (j+1, i)) for j in range(n_vars)]\n",
    "\t# forecast sequence (t, t+1, ... t+n)\n",
    "\tfor i in range(0, n_out):\n",
    "\t\tcols.append(dff.shift(-i))\n",
    "\t\tif i == 0:\n",
    "\t\t\tnames += [('var%d(t)' % (j+1)) for j in range(n_vars)]\n",
    "\t\telse:\n",
    "\t\t\tnames += [('var%d(t+%d)' % (j+1, i)) for j in range(n_vars)]\n",
    "\t# put it all together\n",
    "\tagg = pd.concat(cols, axis=1)\n",
    "\tagg.columns = names\n",
    "\t# drop rows with NaN values\n",
    "\tif dropnan:\n",
    "\t\tagg.dropna(inplace=True)\n",
    "\treturn agg"
   ]
  },
  {
   "cell_type": "code",
   "execution_count": 60,
   "metadata": {
    "colab": {
     "base_uri": "https://localhost:8080/"
    },
    "executionInfo": {
     "elapsed": 1396,
     "status": "ok",
     "timestamp": 1608489232810,
     "user": {
      "displayName": "Daniel Muller",
      "photoUrl": "https://lh4.googleusercontent.com/-e8X2R53Jn7c/AAAAAAAAAAI/AAAAAAAAihw/wh30qwZZfIU/s64/photo.jpg",
      "userId": "10394194769251355223"
     },
     "user_tz": 180
    },
    "id": "WzK_FqGp2rEb",
    "outputId": "ac3bc7eb-5fa6-4f85-ebca-b24713acb92d"
   },
   "outputs": [
    {
     "name": "stdout",
     "output_type": "stream",
     "text": [
      "(0, 13)\n"
     ]
    }
   ],
   "source": [
    "i=0\n",
    "# datatot=[]\n",
    "#Asumo 13 horas en total en cada registro: 12 de entrada y 1 de salida.\n",
    "datatot = np.empty((0,13))\n",
    "for col in data_modelo.columns:\n",
    "    i=i+1 \n",
    "    # print(col)\n",
    "    #Solo columnas numericas\n",
    "    if i>6:\n",
    "      #recover column of data\n",
    "      a=data_modelo.iloc[:,i-1].to_numpy()\n",
    "      a = np.expand_dims(a, axis=1)\n",
    "      # print(type(a))\n",
    "      # print(a.shape)\n",
    "      b=series_to_supervised(a, n_in=13, n_out=0, dropnan=True)\n",
    "      # print(b.shape)\n",
    "      # datatot.append(b)\n",
    "      # print(\"XXXXXXXX\")\n",
    "      datatot=np.vstack((datatot, b))\n",
    "print(datatot.shape)"
   ]
  },
  {
   "cell_type": "code",
   "execution_count": 61,
   "metadata": {
    "colab": {
     "base_uri": "https://localhost:8080/"
    },
    "executionInfo": {
     "elapsed": 751,
     "status": "ok",
     "timestamp": 1608489234662,
     "user": {
      "displayName": "Daniel Muller",
      "photoUrl": "https://lh4.googleusercontent.com/-e8X2R53Jn7c/AAAAAAAAAAI/AAAAAAAAihw/wh30qwZZfIU/s64/photo.jpg",
      "userId": "10394194769251355223"
     },
     "user_tz": 180
    },
    "id": "iJohzATb9QtH",
    "outputId": "81dc7fd4-fa2c-4b30-8908-8453537a87a9"
   },
   "outputs": [
    {
     "ename": "ValueError",
     "evalue": "Found array with 0 sample(s) (shape=(0, 13)) while a minimum of 1 is required by MinMaxScaler.",
     "output_type": "error",
     "traceback": [
      "\u001b[0;31m---------------------------------------------------------------------------\u001b[0m",
      "\u001b[0;31mValueError\u001b[0m                                Traceback (most recent call last)",
      "\u001b[0;32m<ipython-input-61-b9d789dd7e29>\u001b[0m in \u001b[0;36m<module>\u001b[0;34m\u001b[0m\n\u001b[1;32m      4\u001b[0m \u001b[0;31m#https://stackoverflow.com/questions/55226959/normalize-a-multidimensional-array\u001b[0m\u001b[0;34m\u001b[0m\u001b[0;34m\u001b[0m\u001b[0;34m\u001b[0m\u001b[0m\n\u001b[1;32m      5\u001b[0m \u001b[0mscaler\u001b[0m \u001b[0;34m=\u001b[0m \u001b[0mMinMaxScaler\u001b[0m\u001b[0;34m(\u001b[0m\u001b[0mfeature_range\u001b[0m\u001b[0;34m=\u001b[0m\u001b[0;34m(\u001b[0m\u001b[0;36m0\u001b[0m\u001b[0;34m,\u001b[0m \u001b[0;36m1\u001b[0m\u001b[0;34m)\u001b[0m\u001b[0;34m)\u001b[0m\u001b[0;34m\u001b[0m\u001b[0;34m\u001b[0m\u001b[0m\n\u001b[0;32m----> 6\u001b[0;31m \u001b[0mvalues\u001b[0m \u001b[0;34m=\u001b[0m \u001b[0mscaler\u001b[0m\u001b[0;34m.\u001b[0m\u001b[0mfit_transform\u001b[0m\u001b[0;34m(\u001b[0m\u001b[0mdatatot\u001b[0m\u001b[0;34m)\u001b[0m\u001b[0;34m\u001b[0m\u001b[0;34m\u001b[0m\u001b[0m\n\u001b[0m\u001b[1;32m      7\u001b[0m \u001b[0;31m#print(datatot.shape)\u001b[0m\u001b[0;34m\u001b[0m\u001b[0;34m\u001b[0m\u001b[0;34m\u001b[0m\u001b[0m\n\u001b[1;32m      8\u001b[0m \u001b[0mprint\u001b[0m\u001b[0;34m(\u001b[0m\u001b[0mtype\u001b[0m\u001b[0;34m(\u001b[0m\u001b[0mdatatot\u001b[0m\u001b[0;34m)\u001b[0m\u001b[0;34m)\u001b[0m\u001b[0;34m\u001b[0m\u001b[0;34m\u001b[0m\u001b[0m\n",
      "\u001b[0;32m~/anaconda3/envs/tf-gpu/lib/python3.8/site-packages/sklearn/base.py\u001b[0m in \u001b[0;36mfit_transform\u001b[0;34m(self, X, y, **fit_params)\u001b[0m\n\u001b[1;32m    688\u001b[0m         \u001b[0;32mif\u001b[0m \u001b[0my\u001b[0m \u001b[0;32mis\u001b[0m \u001b[0;32mNone\u001b[0m\u001b[0;34m:\u001b[0m\u001b[0;34m\u001b[0m\u001b[0;34m\u001b[0m\u001b[0m\n\u001b[1;32m    689\u001b[0m             \u001b[0;31m# fit method of arity 1 (unsupervised transformation)\u001b[0m\u001b[0;34m\u001b[0m\u001b[0;34m\u001b[0m\u001b[0;34m\u001b[0m\u001b[0m\n\u001b[0;32m--> 690\u001b[0;31m             \u001b[0;32mreturn\u001b[0m \u001b[0mself\u001b[0m\u001b[0;34m.\u001b[0m\u001b[0mfit\u001b[0m\u001b[0;34m(\u001b[0m\u001b[0mX\u001b[0m\u001b[0;34m,\u001b[0m \u001b[0;34m**\u001b[0m\u001b[0mfit_params\u001b[0m\u001b[0;34m)\u001b[0m\u001b[0;34m.\u001b[0m\u001b[0mtransform\u001b[0m\u001b[0;34m(\u001b[0m\u001b[0mX\u001b[0m\u001b[0;34m)\u001b[0m\u001b[0;34m\u001b[0m\u001b[0;34m\u001b[0m\u001b[0m\n\u001b[0m\u001b[1;32m    691\u001b[0m         \u001b[0;32melse\u001b[0m\u001b[0;34m:\u001b[0m\u001b[0;34m\u001b[0m\u001b[0;34m\u001b[0m\u001b[0m\n\u001b[1;32m    692\u001b[0m             \u001b[0;31m# fit method of arity 2 (supervised transformation)\u001b[0m\u001b[0;34m\u001b[0m\u001b[0;34m\u001b[0m\u001b[0;34m\u001b[0m\u001b[0m\n",
      "\u001b[0;32m~/anaconda3/envs/tf-gpu/lib/python3.8/site-packages/sklearn/preprocessing/_data.py\u001b[0m in \u001b[0;36mfit\u001b[0;34m(self, X, y)\u001b[0m\n\u001b[1;32m    334\u001b[0m         \u001b[0;31m# Reset internal state before fitting\u001b[0m\u001b[0;34m\u001b[0m\u001b[0;34m\u001b[0m\u001b[0;34m\u001b[0m\u001b[0m\n\u001b[1;32m    335\u001b[0m         \u001b[0mself\u001b[0m\u001b[0;34m.\u001b[0m\u001b[0m_reset\u001b[0m\u001b[0;34m(\u001b[0m\u001b[0;34m)\u001b[0m\u001b[0;34m\u001b[0m\u001b[0;34m\u001b[0m\u001b[0m\n\u001b[0;32m--> 336\u001b[0;31m         \u001b[0;32mreturn\u001b[0m \u001b[0mself\u001b[0m\u001b[0;34m.\u001b[0m\u001b[0mpartial_fit\u001b[0m\u001b[0;34m(\u001b[0m\u001b[0mX\u001b[0m\u001b[0;34m,\u001b[0m \u001b[0my\u001b[0m\u001b[0;34m)\u001b[0m\u001b[0;34m\u001b[0m\u001b[0;34m\u001b[0m\u001b[0m\n\u001b[0m\u001b[1;32m    337\u001b[0m \u001b[0;34m\u001b[0m\u001b[0m\n\u001b[1;32m    338\u001b[0m     \u001b[0;32mdef\u001b[0m \u001b[0mpartial_fit\u001b[0m\u001b[0;34m(\u001b[0m\u001b[0mself\u001b[0m\u001b[0;34m,\u001b[0m \u001b[0mX\u001b[0m\u001b[0;34m,\u001b[0m \u001b[0my\u001b[0m\u001b[0;34m=\u001b[0m\u001b[0;32mNone\u001b[0m\u001b[0;34m)\u001b[0m\u001b[0;34m:\u001b[0m\u001b[0;34m\u001b[0m\u001b[0;34m\u001b[0m\u001b[0m\n",
      "\u001b[0;32m~/anaconda3/envs/tf-gpu/lib/python3.8/site-packages/sklearn/preprocessing/_data.py\u001b[0m in \u001b[0;36mpartial_fit\u001b[0;34m(self, X, y)\u001b[0m\n\u001b[1;32m    367\u001b[0m \u001b[0;34m\u001b[0m\u001b[0m\n\u001b[1;32m    368\u001b[0m         \u001b[0mfirst_pass\u001b[0m \u001b[0;34m=\u001b[0m \u001b[0;32mnot\u001b[0m \u001b[0mhasattr\u001b[0m\u001b[0;34m(\u001b[0m\u001b[0mself\u001b[0m\u001b[0;34m,\u001b[0m \u001b[0;34m'n_samples_seen_'\u001b[0m\u001b[0;34m)\u001b[0m\u001b[0;34m\u001b[0m\u001b[0;34m\u001b[0m\u001b[0m\n\u001b[0;32m--> 369\u001b[0;31m         X = self._validate_data(X, reset=first_pass,\n\u001b[0m\u001b[1;32m    370\u001b[0m                                 \u001b[0mestimator\u001b[0m\u001b[0;34m=\u001b[0m\u001b[0mself\u001b[0m\u001b[0;34m,\u001b[0m \u001b[0mdtype\u001b[0m\u001b[0;34m=\u001b[0m\u001b[0mFLOAT_DTYPES\u001b[0m\u001b[0;34m,\u001b[0m\u001b[0;34m\u001b[0m\u001b[0;34m\u001b[0m\u001b[0m\n\u001b[1;32m    371\u001b[0m                                 force_all_finite=\"allow-nan\")\n",
      "\u001b[0;32m~/anaconda3/envs/tf-gpu/lib/python3.8/site-packages/sklearn/base.py\u001b[0m in \u001b[0;36m_validate_data\u001b[0;34m(self, X, y, reset, validate_separately, **check_params)\u001b[0m\n\u001b[1;32m    418\u001b[0m                     \u001b[0;34mf\"requires y to be passed, but the target y is None.\"\u001b[0m\u001b[0;34m\u001b[0m\u001b[0;34m\u001b[0m\u001b[0m\n\u001b[1;32m    419\u001b[0m                 )\n\u001b[0;32m--> 420\u001b[0;31m             \u001b[0mX\u001b[0m \u001b[0;34m=\u001b[0m \u001b[0mcheck_array\u001b[0m\u001b[0;34m(\u001b[0m\u001b[0mX\u001b[0m\u001b[0;34m,\u001b[0m \u001b[0;34m**\u001b[0m\u001b[0mcheck_params\u001b[0m\u001b[0;34m)\u001b[0m\u001b[0;34m\u001b[0m\u001b[0;34m\u001b[0m\u001b[0m\n\u001b[0m\u001b[1;32m    421\u001b[0m             \u001b[0mout\u001b[0m \u001b[0;34m=\u001b[0m \u001b[0mX\u001b[0m\u001b[0;34m\u001b[0m\u001b[0;34m\u001b[0m\u001b[0m\n\u001b[1;32m    422\u001b[0m         \u001b[0;32melse\u001b[0m\u001b[0;34m:\u001b[0m\u001b[0;34m\u001b[0m\u001b[0;34m\u001b[0m\u001b[0m\n",
      "\u001b[0;32m~/anaconda3/envs/tf-gpu/lib/python3.8/site-packages/sklearn/utils/validation.py\u001b[0m in \u001b[0;36minner_f\u001b[0;34m(*args, **kwargs)\u001b[0m\n\u001b[1;32m     70\u001b[0m                           FutureWarning)\n\u001b[1;32m     71\u001b[0m         \u001b[0mkwargs\u001b[0m\u001b[0;34m.\u001b[0m\u001b[0mupdate\u001b[0m\u001b[0;34m(\u001b[0m\u001b[0;34m{\u001b[0m\u001b[0mk\u001b[0m\u001b[0;34m:\u001b[0m \u001b[0marg\u001b[0m \u001b[0;32mfor\u001b[0m \u001b[0mk\u001b[0m\u001b[0;34m,\u001b[0m \u001b[0marg\u001b[0m \u001b[0;32min\u001b[0m \u001b[0mzip\u001b[0m\u001b[0;34m(\u001b[0m\u001b[0msig\u001b[0m\u001b[0;34m.\u001b[0m\u001b[0mparameters\u001b[0m\u001b[0;34m,\u001b[0m \u001b[0margs\u001b[0m\u001b[0;34m)\u001b[0m\u001b[0;34m}\u001b[0m\u001b[0;34m)\u001b[0m\u001b[0;34m\u001b[0m\u001b[0;34m\u001b[0m\u001b[0m\n\u001b[0;32m---> 72\u001b[0;31m         \u001b[0;32mreturn\u001b[0m \u001b[0mf\u001b[0m\u001b[0;34m(\u001b[0m\u001b[0;34m**\u001b[0m\u001b[0mkwargs\u001b[0m\u001b[0;34m)\u001b[0m\u001b[0;34m\u001b[0m\u001b[0;34m\u001b[0m\u001b[0m\n\u001b[0m\u001b[1;32m     73\u001b[0m     \u001b[0;32mreturn\u001b[0m \u001b[0minner_f\u001b[0m\u001b[0;34m\u001b[0m\u001b[0;34m\u001b[0m\u001b[0m\n\u001b[1;32m     74\u001b[0m \u001b[0;34m\u001b[0m\u001b[0m\n",
      "\u001b[0;32m~/anaconda3/envs/tf-gpu/lib/python3.8/site-packages/sklearn/utils/validation.py\u001b[0m in \u001b[0;36mcheck_array\u001b[0;34m(array, accept_sparse, accept_large_sparse, dtype, order, copy, force_all_finite, ensure_2d, allow_nd, ensure_min_samples, ensure_min_features, estimator)\u001b[0m\n\u001b[1;32m    648\u001b[0m         \u001b[0mn_samples\u001b[0m \u001b[0;34m=\u001b[0m \u001b[0m_num_samples\u001b[0m\u001b[0;34m(\u001b[0m\u001b[0marray\u001b[0m\u001b[0;34m)\u001b[0m\u001b[0;34m\u001b[0m\u001b[0;34m\u001b[0m\u001b[0m\n\u001b[1;32m    649\u001b[0m         \u001b[0;32mif\u001b[0m \u001b[0mn_samples\u001b[0m \u001b[0;34m<\u001b[0m \u001b[0mensure_min_samples\u001b[0m\u001b[0;34m:\u001b[0m\u001b[0;34m\u001b[0m\u001b[0;34m\u001b[0m\u001b[0m\n\u001b[0;32m--> 650\u001b[0;31m             raise ValueError(\"Found array with %d sample(s) (shape=%s) while a\"\n\u001b[0m\u001b[1;32m    651\u001b[0m                              \u001b[0;34m\" minimum of %d is required%s.\"\u001b[0m\u001b[0;34m\u001b[0m\u001b[0;34m\u001b[0m\u001b[0m\n\u001b[1;32m    652\u001b[0m                              % (n_samples, array.shape, ensure_min_samples,\n",
      "\u001b[0;31mValueError\u001b[0m: Found array with 0 sample(s) (shape=(0, 13)) while a minimum of 1 is required by MinMaxScaler."
     ]
    }
   ],
   "source": [
    "from sklearn.preprocessing import MinMaxScaler\n",
    "#scaling by hour -> It suppose to be \n",
    "#el mismo rango para las 13 horas. Como sea si hubieran mas variables, hay que repensar normalizacion, posiblemente habria que usar otro metodo.\n",
    "#https://stackoverflow.com/questions/55226959/normalize-a-multidimensional-array\n",
    "scaler = MinMaxScaler(feature_range=(0, 1))\n",
    "values = scaler.fit_transform(datatot)\n",
    "#print(datatot.shape)\n",
    "print(type(datatot))"
   ]
  },
  {
   "cell_type": "code",
   "execution_count": 6,
   "metadata": {
    "colab": {
     "base_uri": "https://localhost:8080/"
    },
    "executionInfo": {
     "elapsed": 737,
     "status": "ok",
     "timestamp": 1608489236549,
     "user": {
      "displayName": "Daniel Muller",
      "photoUrl": "https://lh4.googleusercontent.com/-e8X2R53Jn7c/AAAAAAAAAAI/AAAAAAAAihw/wh30qwZZfIU/s64/photo.jpg",
      "userId": "10394194769251355223"
     },
     "user_tz": 180
    },
    "id": "QUdFaagEJEJF",
    "outputId": "d7446447-fd4f-4b23-ee6e-103e700d1d25"
   },
   "outputs": [
    {
     "name": "stdout",
     "output_type": "stream",
     "text": [
      "224716\n",
      "(224716, 13)\n",
      "(96308, 13)\n",
      "(224716, 12, 1) (224716,) (96308, 12, 1) (96308,)\n"
     ]
    }
   ],
   "source": [
    "#Separate train/test\n",
    "fils, nvars = values.shape\n",
    "n_train_time = int(np.floor(fils*0.7)) #365*24\n",
    "print(n_train_time)\n",
    "train = values[:n_train_time, :]\n",
    "test = values[n_train_time:, :]\n",
    "print(train.shape)\n",
    "print(test.shape)\n",
    "##test = values[n_train_time:n_test_time, :]\n",
    "# split into input and outputs\n",
    "train_X, train_y = train[:, :-1], train[:, -1]\n",
    "test_X, test_y = test[:, :-1], test[:, -1]\n",
    "# reshape input to be 3D [samples, timesteps, features]\n",
    "train_X = train_X.reshape((train_X.shape[0], train_X.shape[1],1))\n",
    "test_X = test_X.reshape((test_X.shape[0], test_X.shape[1],1))\n",
    "print(train_X.shape, train_y.shape, test_X.shape, test_y.shape) \n",
    "# We reshaped the input into the 3D format as expected by LSTMs, namely [samples, timesteps, features]."
   ]
  },
  {
   "cell_type": "code",
   "execution_count": 7,
   "metadata": {
    "executionInfo": {
     "elapsed": 694,
     "status": "ok",
     "timestamp": 1608492152387,
     "user": {
      "displayName": "Daniel Muller",
      "photoUrl": "https://lh4.googleusercontent.com/-e8X2R53Jn7c/AAAAAAAAAAI/AAAAAAAAihw/wh30qwZZfIU/s64/photo.jpg",
      "userId": "10394194769251355223"
     },
     "user_tz": 180
    },
    "id": "EyPY0h-eKr22"
   },
   "outputs": [],
   "source": [
    "import keras\n",
    "from keras.layers import Dense\n",
    "from keras.models import Sequential\n",
    "from keras.utils import to_categorical\n",
    "from keras.optimizers import SGD \n",
    "from keras.callbacks import EarlyStopping\n",
    "from keras.utils import np_utils\n",
    "import itertools\n",
    "from keras.layers import LSTM\n",
    "from keras.layers.convolutional import Conv1D\n",
    "from keras.layers.convolutional import MaxPooling1D\n",
    "from keras.layers import Dropout\n",
    "from keras.metrics import Accuracy\n",
    "from keras import backend as K\n",
    "from keras.layers import Bidirectional"
   ]
  },
  {
   "cell_type": "code",
   "execution_count": 8,
   "metadata": {},
   "outputs": [],
   "source": [
    "from keras import backend as K\n",
    "\n",
    "def coeff_determination(y_true, y_pred):\n",
    "    SS_res =  K.sum(K.square( y_true-y_pred )) \n",
    "    SS_tot = K.sum(K.square( y_true - K.mean(y_true) ) ) \n",
    "    return ( 1 - SS_res/(SS_tot + K.epsilon()) )"
   ]
  },
  {
   "cell_type": "code",
   "execution_count": 9,
   "metadata": {
    "executionInfo": {
     "elapsed": 966,
     "status": "ok",
     "timestamp": 1608492230341,
     "user": {
      "displayName": "Daniel Muller",
      "photoUrl": "https://lh4.googleusercontent.com/-e8X2R53Jn7c/AAAAAAAAAAI/AAAAAAAAihw/wh30qwZZfIU/s64/photo.jpg",
      "userId": "10394194769251355223"
     },
     "user_tz": 180
    },
    "id": "qDG4DvXlKGVm",
    "scrolled": true
   },
   "outputs": [],
   "source": [
    "model = Sequential()\n",
    "model.add(Bidirectional(LSTM(24, return_sequences=True, input_shape=(train_X.shape[1], train_X.shape[2]))))\n",
    "model.add(Dropout(0.1))\n",
    "model.add(Bidirectional(LSTM(24, return_sequences=True)))\n",
    "model.add(Dropout(0.1))\n",
    "model.add(Bidirectional(LSTM(24)))\n",
    "model.add(Dropout(0.1))\n",
    "model.add(Dense(1))\n",
    "model.compile(loss='mean_squared_error', optimizer='adam', metrics=[coeff_determination])"
   ]
  },
  {
   "cell_type": "code",
   "execution_count": 10,
   "metadata": {
    "colab": {
     "base_uri": "https://localhost:8080/"
    },
    "executionInfo": {
     "elapsed": 1293398,
     "status": "ok",
     "timestamp": 1608493527295,
     "user": {
      "displayName": "Daniel Muller",
      "photoUrl": "https://lh4.googleusercontent.com/-e8X2R53Jn7c/AAAAAAAAAAI/AAAAAAAAihw/wh30qwZZfIU/s64/photo.jpg",
      "userId": "10394194769251355223"
     },
     "user_tz": 180
    },
    "id": "GU4izO2icrb7",
    "outputId": "a74563cc-6e43-4161-923a-f3f0c21498c7"
   },
   "outputs": [
    {
     "name": "stdout",
     "output_type": "stream",
     "text": [
      "Epoch 1/101\n",
      "3512/3512 - 37s - loss: 0.0138 - coeff_determination: -3.2400e-01 - val_loss: 0.0211 - val_coeff_determination: -9.9073e-01\n",
      "Epoch 2/101\n",
      "3512/3512 - 21s - loss: 0.0126 - coeff_determination: -1.5948e-01 - val_loss: 0.0194 - val_coeff_determination: -8.1649e-01\n",
      "Epoch 3/101\n",
      "3512/3512 - 21s - loss: 0.0122 - coeff_determination: -1.2327e-01 - val_loss: 0.0191 - val_coeff_determination: -7.8252e-01\n",
      "Epoch 4/101\n",
      "3512/3512 - 21s - loss: 0.0119 - coeff_determination: -9.6806e-02 - val_loss: 0.0186 - val_coeff_determination: -7.2209e-01\n",
      "Epoch 5/101\n",
      "3512/3512 - 21s - loss: 0.0116 - coeff_determination: -7.1152e-02 - val_loss: 0.0177 - val_coeff_determination: -6.1080e-01\n",
      "Epoch 6/101\n",
      "3512/3512 - 21s - loss: 0.0114 - coeff_determination: -5.5476e-02 - val_loss: 0.0165 - val_coeff_determination: -4.6278e-01\n",
      "Epoch 7/101\n",
      "3512/3512 - 21s - loss: 0.0113 - coeff_determination: -4.4171e-02 - val_loss: 0.0158 - val_coeff_determination: -3.7832e-01\n",
      "Epoch 8/101\n",
      "3512/3512 - 21s - loss: 0.0112 - coeff_determination: -3.7896e-02 - val_loss: 0.0155 - val_coeff_determination: -3.5239e-01\n",
      "Epoch 9/101\n",
      "3512/3512 - 21s - loss: 0.0112 - coeff_determination: -3.5189e-02 - val_loss: 0.0152 - val_coeff_determination: -3.1210e-01\n",
      "Epoch 10/101\n",
      "3512/3512 - 21s - loss: 0.0111 - coeff_determination: -3.2025e-02 - val_loss: 0.0151 - val_coeff_determination: -3.0174e-01\n",
      "Epoch 11/101\n",
      "3512/3512 - 21s - loss: 0.0111 - coeff_determination: -2.9393e-02 - val_loss: 0.0150 - val_coeff_determination: -2.8452e-01\n",
      "Epoch 12/101\n",
      "3512/3512 - 22s - loss: 0.0111 - coeff_determination: -2.6354e-02 - val_loss: 0.0148 - val_coeff_determination: -2.6399e-01\n",
      "Epoch 13/101\n",
      "3512/3512 - 22s - loss: 0.0110 - coeff_determination: -2.3578e-02 - val_loss: 0.0148 - val_coeff_determination: -2.6331e-01\n",
      "Epoch 14/101\n",
      "3512/3512 - 22s - loss: 0.0110 - coeff_determination: -2.2400e-02 - val_loss: 0.0147 - val_coeff_determination: -2.5790e-01\n",
      "Epoch 15/101\n",
      "3512/3512 - 23s - loss: 0.0110 - coeff_determination: -2.0724e-02 - val_loss: 0.0146 - val_coeff_determination: -2.4833e-01\n",
      "Epoch 16/101\n",
      "3512/3512 - 22s - loss: 0.0110 - coeff_determination: -1.9085e-02 - val_loss: 0.0145 - val_coeff_determination: -2.3409e-01\n",
      "Epoch 17/101\n",
      "3512/3512 - 21s - loss: 0.0110 - coeff_determination: -1.8867e-02 - val_loss: 0.0146 - val_coeff_determination: -2.4810e-01\n",
      "Epoch 18/101\n",
      "3512/3512 - 21s - loss: 0.0110 - coeff_determination: -1.7668e-02 - val_loss: 0.0146 - val_coeff_determination: -2.4256e-01\n",
      "Epoch 19/101\n",
      "3512/3512 - 21s - loss: 0.0109 - coeff_determination: -1.5642e-02 - val_loss: 0.0144 - val_coeff_determination: -2.2856e-01\n",
      "Epoch 20/101\n",
      "3512/3512 - 21s - loss: 0.0109 - coeff_determination: -1.5499e-02 - val_loss: 0.0145 - val_coeff_determination: -2.2902e-01\n",
      "Epoch 21/101\n",
      "3512/3512 - 21s - loss: 0.0109 - coeff_determination: -1.3755e-02 - val_loss: 0.0144 - val_coeff_determination: -2.2610e-01\n",
      "Epoch 22/101\n",
      "3512/3512 - 21s - loss: 0.0109 - coeff_determination: -1.2383e-02 - val_loss: 0.0143 - val_coeff_determination: -2.1124e-01\n",
      "Epoch 23/101\n",
      "3512/3512 - 21s - loss: 0.0109 - coeff_determination: -1.0320e-02 - val_loss: 0.0143 - val_coeff_determination: -2.1521e-01\n",
      "Epoch 24/101\n",
      "3512/3512 - 22s - loss: 0.0109 - coeff_determination: -8.5168e-03 - val_loss: 0.0143 - val_coeff_determination: -2.0732e-01\n",
      "Epoch 25/101\n",
      "3512/3512 - 23s - loss: 0.0109 - coeff_determination: -7.9016e-03 - val_loss: 0.0142 - val_coeff_determination: -2.0365e-01\n",
      "Epoch 26/101\n",
      "3512/3512 - 22s - loss: 0.0108 - coeff_determination: -6.0614e-03 - val_loss: 0.0141 - val_coeff_determination: -1.9377e-01\n",
      "Epoch 27/101\n",
      "3512/3512 - 22s - loss: 0.0108 - coeff_determination: -4.5370e-03 - val_loss: 0.0141 - val_coeff_determination: -1.8584e-01\n",
      "Epoch 28/101\n",
      "3512/3512 - 22s - loss: 0.0108 - coeff_determination: -3.9556e-03 - val_loss: 0.0141 - val_coeff_determination: -1.9441e-01\n",
      "Epoch 29/101\n",
      "3512/3512 - 22s - loss: 0.0108 - coeff_determination: -2.1810e-03 - val_loss: 0.0142 - val_coeff_determination: -1.9695e-01\n",
      "Epoch 30/101\n",
      "3512/3512 - 22s - loss: 0.0108 - coeff_determination: 6.3140e-05 - val_loss: 0.0141 - val_coeff_determination: -1.9293e-01\n",
      "Epoch 31/101\n",
      "3512/3512 - 22s - loss: 0.0108 - coeff_determination: -7.5840e-05 - val_loss: 0.0141 - val_coeff_determination: -1.8788e-01\n",
      "Epoch 32/101\n",
      "3512/3512 - 22s - loss: 0.0108 - coeff_determination: 0.0017 - val_loss: 0.0142 - val_coeff_determination: -1.9976e-01\n",
      "Epoch 33/101\n",
      "3512/3512 - 22s - loss: 0.0108 - coeff_determination: 0.0019 - val_loss: 0.0142 - val_coeff_determination: -1.9769e-01\n",
      "Epoch 34/101\n",
      "3512/3512 - 22s - loss: 0.0107 - coeff_determination: 0.0039 - val_loss: 0.0142 - val_coeff_determination: -2.0282e-01\n",
      "Epoch 35/101\n",
      "3512/3512 - 22s - loss: 0.0107 - coeff_determination: 0.0042 - val_loss: 0.0141 - val_coeff_determination: -1.9043e-01\n",
      "Epoch 36/101\n",
      "3512/3512 - 22s - loss: 0.0107 - coeff_determination: 0.0043 - val_loss: 0.0142 - val_coeff_determination: -1.9567e-01\n",
      "Epoch 37/101\n",
      "3512/3512 - 22s - loss: 0.0107 - coeff_determination: 0.0063 - val_loss: 0.0141 - val_coeff_determination: -1.9034e-01\n",
      "Epoch 38/101\n",
      "3512/3512 - 22s - loss: 0.0107 - coeff_determination: 0.0070 - val_loss: 0.0142 - val_coeff_determination: -2.0024e-01\n",
      "Epoch 39/101\n",
      "3512/3512 - 22s - loss: 0.0107 - coeff_determination: 0.0089 - val_loss: 0.0141 - val_coeff_determination: -1.8470e-01\n",
      "Epoch 40/101\n",
      "3512/3512 - 22s - loss: 0.0107 - coeff_determination: 0.0090 - val_loss: 0.0143 - val_coeff_determination: -2.0655e-01\n",
      "Epoch 41/101\n",
      "3512/3512 - 22s - loss: 0.0107 - coeff_determination: 0.0088 - val_loss: 0.0142 - val_coeff_determination: -1.9536e-01\n",
      "Epoch 42/101\n",
      "3512/3512 - 22s - loss: 0.0107 - coeff_determination: 0.0094 - val_loss: 0.0141 - val_coeff_determination: -1.8992e-01\n",
      "Epoch 43/101\n",
      "3512/3512 - 22s - loss: 0.0106 - coeff_determination: 0.0119 - val_loss: 0.0141 - val_coeff_determination: -1.8854e-01\n",
      "Epoch 44/101\n",
      "3512/3512 - 22s - loss: 0.0106 - coeff_determination: 0.0106 - val_loss: 0.0142 - val_coeff_determination: -1.9162e-01\n",
      "Epoch 45/101\n",
      "3512/3512 - 22s - loss: 0.0106 - coeff_determination: 0.0122 - val_loss: 0.0143 - val_coeff_determination: -2.0035e-01\n",
      "Epoch 46/101\n",
      "3512/3512 - 22s - loss: 0.0106 - coeff_determination: 0.0123 - val_loss: 0.0142 - val_coeff_determination: -1.9550e-01\n",
      "Epoch 47/101\n",
      "3512/3512 - 23s - loss: 0.0106 - coeff_determination: 0.0136 - val_loss: 0.0143 - val_coeff_determination: -1.9903e-01\n",
      "Epoch 48/101\n",
      "3512/3512 - 22s - loss: 0.0106 - coeff_determination: 0.0134 - val_loss: 0.0145 - val_coeff_determination: -2.2451e-01\n",
      "Epoch 49/101\n",
      "3512/3512 - 22s - loss: 0.0106 - coeff_determination: 0.0135 - val_loss: 0.0143 - val_coeff_determination: -2.0201e-01\n",
      "Epoch 50/101\n",
      "3512/3512 - 25s - loss: 0.0106 - coeff_determination: 0.0131 - val_loss: 0.0144 - val_coeff_determination: -2.0934e-01\n",
      "Epoch 51/101\n",
      "3512/3512 - 28s - loss: 0.0106 - coeff_determination: 0.0137 - val_loss: 0.0141 - val_coeff_determination: -1.8338e-01\n",
      "Epoch 52/101\n",
      "3512/3512 - 28s - loss: 0.0106 - coeff_determination: 0.0135 - val_loss: 0.0143 - val_coeff_determination: -2.0586e-01\n",
      "Epoch 53/101\n",
      "3512/3512 - 31s - loss: 0.0106 - coeff_determination: 0.0146 - val_loss: 0.0144 - val_coeff_determination: -2.0912e-01\n",
      "Epoch 54/101\n",
      "3512/3512 - 30s - loss: 0.0106 - coeff_determination: 0.0138 - val_loss: 0.0143 - val_coeff_determination: -2.0049e-01\n",
      "Epoch 55/101\n",
      "3512/3512 - 32s - loss: 0.0106 - coeff_determination: 0.0154 - val_loss: 0.0142 - val_coeff_determination: -1.9323e-01\n",
      "Epoch 56/101\n",
      "3512/3512 - 31s - loss: 0.0106 - coeff_determination: 0.0160 - val_loss: 0.0142 - val_coeff_determination: -1.9442e-01\n",
      "Epoch 57/101\n",
      "3512/3512 - 23s - loss: 0.0106 - coeff_determination: 0.0148 - val_loss: 0.0143 - val_coeff_determination: -2.0034e-01\n",
      "Epoch 58/101\n",
      "3512/3512 - 23s - loss: 0.0106 - coeff_determination: 0.0172 - val_loss: 0.0143 - val_coeff_determination: -1.9935e-01\n",
      "Epoch 59/101\n",
      "3512/3512 - 25s - loss: 0.0105 - coeff_determination: 0.0166 - val_loss: 0.0142 - val_coeff_determination: -1.8645e-01\n",
      "Epoch 60/101\n",
      "3512/3512 - 24s - loss: 0.0105 - coeff_determination: 0.0171 - val_loss: 0.0141 - val_coeff_determination: -1.8635e-01\n",
      "Epoch 61/101\n",
      "3512/3512 - 24s - loss: 0.0105 - coeff_determination: 0.0175 - val_loss: 0.0143 - val_coeff_determination: -1.9871e-01\n"
     ]
    },
    {
     "name": "stdout",
     "output_type": "stream",
     "text": [
      "Epoch 62/101\n",
      "3512/3512 - 24s - loss: 0.0105 - coeff_determination: 0.0162 - val_loss: 0.0142 - val_coeff_determination: -1.8419e-01\n",
      "Epoch 63/101\n",
      "3512/3512 - 24s - loss: 0.0105 - coeff_determination: 0.0180 - val_loss: 0.0143 - val_coeff_determination: -2.0104e-01\n",
      "Epoch 64/101\n",
      "3512/3512 - 24s - loss: 0.0105 - coeff_determination: 0.0171 - val_loss: 0.0143 - val_coeff_determination: -2.0480e-01\n",
      "Epoch 65/101\n",
      "3512/3512 - 24s - loss: 0.0105 - coeff_determination: 0.0194 - val_loss: 0.0144 - val_coeff_determination: -2.0873e-01\n",
      "Epoch 66/101\n",
      "3512/3512 - 25s - loss: 0.0105 - coeff_determination: 0.0203 - val_loss: 0.0143 - val_coeff_determination: -2.0159e-01\n",
      "Epoch 67/101\n",
      "3512/3512 - 25s - loss: 0.0105 - coeff_determination: 0.0207 - val_loss: 0.0143 - val_coeff_determination: -2.0109e-01\n",
      "Epoch 68/101\n",
      "3512/3512 - 25s - loss: 0.0105 - coeff_determination: 0.0198 - val_loss: 0.0141 - val_coeff_determination: -1.7973e-01\n",
      "Epoch 69/101\n",
      "3512/3512 - 23s - loss: 0.0105 - coeff_determination: 0.0208 - val_loss: 0.0144 - val_coeff_determination: -2.0471e-01\n",
      "Epoch 70/101\n",
      "3512/3512 - 21s - loss: 0.0105 - coeff_determination: 0.0206 - val_loss: 0.0142 - val_coeff_determination: -1.8907e-01\n",
      "Epoch 71/101\n",
      "3512/3512 - 22s - loss: 0.0105 - coeff_determination: 0.0209 - val_loss: 0.0143 - val_coeff_determination: -1.9518e-01\n",
      "Epoch 72/101\n",
      "3512/3512 - 24s - loss: 0.0105 - coeff_determination: 0.0209 - val_loss: 0.0142 - val_coeff_determination: -1.8205e-01\n",
      "Epoch 73/101\n",
      "3512/3512 - 24s - loss: 0.0105 - coeff_determination: 0.0229 - val_loss: 0.0144 - val_coeff_determination: -2.0665e-01\n",
      "Epoch 74/101\n",
      "3512/3512 - 24s - loss: 0.0105 - coeff_determination: 0.0232 - val_loss: 0.0144 - val_coeff_determination: -2.0958e-01\n",
      "Epoch 75/101\n",
      "3512/3512 - 24s - loss: 0.0105 - coeff_determination: 0.0214 - val_loss: 0.0145 - val_coeff_determination: -2.0966e-01\n",
      "Epoch 76/101\n",
      "3512/3512 - 25s - loss: 0.0105 - coeff_determination: 0.0232 - val_loss: 0.0143 - val_coeff_determination: -1.9665e-01\n",
      "Epoch 77/101\n",
      "3512/3512 - 25s - loss: 0.0105 - coeff_determination: 0.0213 - val_loss: 0.0144 - val_coeff_determination: -2.0233e-01\n",
      "Epoch 78/101\n",
      "3512/3512 - 25s - loss: 0.0104 - coeff_determination: 0.0241 - val_loss: 0.0144 - val_coeff_determination: -1.9780e-01\n",
      "Epoch 79/101\n",
      "3512/3512 - 25s - loss: 0.0105 - coeff_determination: 0.0241 - val_loss: 0.0144 - val_coeff_determination: -2.0137e-01\n",
      "Epoch 80/101\n",
      "3512/3512 - 25s - loss: 0.0105 - coeff_determination: 0.0233 - val_loss: 0.0143 - val_coeff_determination: -1.8863e-01\n",
      "Epoch 81/101\n",
      "3512/3512 - 24s - loss: 0.0104 - coeff_determination: 0.0242 - val_loss: 0.0142 - val_coeff_determination: -1.8665e-01\n",
      "Epoch 82/101\n",
      "3512/3512 - 24s - loss: 0.0104 - coeff_determination: 0.0242 - val_loss: 0.0145 - val_coeff_determination: -2.0818e-01\n",
      "Epoch 83/101\n",
      "3512/3512 - 25s - loss: 0.0104 - coeff_determination: 0.0238 - val_loss: 0.0145 - val_coeff_determination: -2.1102e-01\n",
      "Epoch 84/101\n",
      "3512/3512 - 25s - loss: 0.0104 - coeff_determination: 0.0251 - val_loss: 0.0144 - val_coeff_determination: -2.0203e-01\n",
      "Epoch 85/101\n",
      "3512/3512 - 26s - loss: 0.0105 - coeff_determination: 0.0224 - val_loss: 0.0143 - val_coeff_determination: -1.8529e-01\n",
      "Epoch 86/101\n",
      "3512/3512 - 26s - loss: 0.0104 - coeff_determination: 0.0241 - val_loss: 0.0144 - val_coeff_determination: -1.9821e-01\n",
      "Epoch 87/101\n",
      "3512/3512 - 25s - loss: 0.0104 - coeff_determination: 0.0258 - val_loss: 0.0144 - val_coeff_determination: -2.0377e-01\n",
      "Epoch 88/101\n",
      "3512/3512 - 25s - loss: 0.0104 - coeff_determination: 0.0250 - val_loss: 0.0143 - val_coeff_determination: -1.9045e-01\n",
      "Epoch 89/101\n",
      "3512/3512 - 28s - loss: 0.0104 - coeff_determination: 0.0273 - val_loss: 0.0143 - val_coeff_determination: -1.8764e-01\n",
      "Epoch 90/101\n",
      "3512/3512 - 26s - loss: 0.0104 - coeff_determination: 0.0255 - val_loss: 0.0145 - val_coeff_determination: -2.0894e-01\n",
      "Epoch 91/101\n",
      "3512/3512 - 26s - loss: 0.0104 - coeff_determination: 0.0249 - val_loss: 0.0145 - val_coeff_determination: -2.1141e-01\n",
      "Epoch 92/101\n",
      "3512/3512 - 26s - loss: 0.0104 - coeff_determination: 0.0246 - val_loss: 0.0143 - val_coeff_determination: -1.8843e-01\n",
      "Epoch 93/101\n",
      "3512/3512 - 26s - loss: 0.0104 - coeff_determination: 0.0234 - val_loss: 0.0143 - val_coeff_determination: -1.9322e-01\n",
      "Epoch 94/101\n",
      "3512/3512 - 25s - loss: 0.0104 - coeff_determination: 0.0265 - val_loss: 0.0143 - val_coeff_determination: -1.8852e-01\n",
      "Epoch 95/101\n",
      "3512/3512 - 25s - loss: 0.0104 - coeff_determination: 0.0248 - val_loss: 0.0144 - val_coeff_determination: -2.0798e-01\n",
      "Epoch 96/101\n",
      "3512/3512 - 25s - loss: 0.0104 - coeff_determination: 0.0260 - val_loss: 0.0142 - val_coeff_determination: -1.8707e-01\n",
      "Epoch 97/101\n",
      "3512/3512 - 25s - loss: 0.0104 - coeff_determination: 0.0249 - val_loss: 0.0144 - val_coeff_determination: -1.9968e-01\n",
      "Epoch 98/101\n",
      "3512/3512 - 25s - loss: 0.0104 - coeff_determination: 0.0249 - val_loss: 0.0144 - val_coeff_determination: -2.1133e-01\n",
      "Epoch 99/101\n",
      "3512/3512 - 25s - loss: 0.0104 - coeff_determination: 0.0263 - val_loss: 0.0143 - val_coeff_determination: -1.9674e-01\n",
      "Epoch 100/101\n",
      "3512/3512 - 25s - loss: 0.0104 - coeff_determination: 0.0252 - val_loss: 0.0144 - val_coeff_determination: -2.0159e-01\n",
      "Epoch 101/101\n",
      "3512/3512 - 25s - loss: 0.0104 - coeff_determination: 0.0275 - val_loss: 0.0143 - val_coeff_determination: -1.9400e-01\n"
     ]
    }
   ],
   "source": [
    "# fit network\n",
    "history = model.fit(train_X, train_y, epochs=101, batch_size=64, validation_data=(test_X, test_y), verbose=2, shuffle=False)"
   ]
  },
  {
   "cell_type": "code",
   "execution_count": 11,
   "metadata": {
    "colab": {
     "base_uri": "https://localhost:8080/",
     "height": 295
    },
    "executionInfo": {
     "elapsed": 993,
     "status": "ok",
     "timestamp": 1608493528387,
     "user": {
      "displayName": "Daniel Muller",
      "photoUrl": "https://lh4.googleusercontent.com/-e8X2R53Jn7c/AAAAAAAAAAI/AAAAAAAAihw/wh30qwZZfIU/s64/photo.jpg",
      "userId": "10394194769251355223"
     },
     "user_tz": 180
    },
    "id": "C8ZKFrFWLGHN",
    "outputId": "f7546fe0-ff91-485b-d2cb-a3224f2084ab",
    "scrolled": true
   },
   "outputs": [
    {
     "data": {
      "image/png": "[encoded data removed]",
      "text/plain": [
       "<Figure size 432x288 with 1 Axes>"
      ]
     },
     "metadata": {
      "needs_background": "light"
     },
     "output_type": "display_data"
    }
   ],
   "source": [
    "# summarize history for loss\n",
    "plt.plot(history.history['coeff_determination'])\n",
    "plt.plot(history.history['val_coeff_determination'])\n",
    "plt.plot\n",
    "plt.title('coeff determination')\n",
    "plt.ylabel('value')\n",
    "plt.xlabel('epoch')\n",
    "plt.legend(['train', 'test'], loc='upper right')\n",
    "plt.show()"
   ]
  },
  {
   "cell_type": "code",
   "execution_count": 12,
   "metadata": {
    "colab": {
     "base_uri": "https://localhost:8080/",
     "height": 295
    },
    "executionInfo": {
     "elapsed": 964,
     "status": "ok",
     "timestamp": 1608493528391,
     "user": {
      "displayName": "Daniel Muller",
      "photoUrl": "https://lh4.googleusercontent.com/-e8X2R53Jn7c/AAAAAAAAAAI/AAAAAAAAihw/wh30qwZZfIU/s64/photo.jpg",
      "userId": "10394194769251355223"
     },
     "user_tz": 180
    },
    "id": "qJG3Us2VnU03",
    "outputId": "ef35cf75-a41a-42a1-ad72-72e2d10be8ad",
    "scrolled": true
   },
   "outputs": [
    {
     "data": {
      "image/png": "[encoded data removed]",
      "text/plain": [
       "<Figure size 432x288 with 1 Axes>"
      ]
     },
     "metadata": {
      "needs_background": "light"
     },
     "output_type": "display_data"
    }
   ],
   "source": [
    "plt.plot(history.history['loss'])\n",
    "plt.plot(history.history['val_loss'])\n",
    "plt.plot\n",
    "plt.title('model loss')\n",
    "plt.ylabel('loss')\n",
    "plt.xlabel('epoch')\n",
    "plt.legend(['train', 'test'], loc='upper right')\n",
    "plt.show()"
   ]
  },
  {
   "cell_type": "code",
   "execution_count": 13,
   "metadata": {
    "colab": {
     "base_uri": "https://localhost:8080/"
    },
    "executionInfo": {
     "elapsed": 5372,
     "status": "ok",
     "timestamp": 1608493532810,
     "user": {
      "displayName": "Daniel Muller",
      "photoUrl": "https://lh4.googleusercontent.com/-e8X2R53Jn7c/AAAAAAAAAAI/AAAAAAAAihw/wh30qwZZfIU/s64/photo.jpg",
      "userId": "10394194769251355223"
     },
     "user_tz": 180
    },
    "id": "YB0piGFPLHAh",
    "outputId": "48bc6379-253c-4746-97f2-9237f29923d9"
   },
   "outputs": [
    {
     "name": "stdout",
     "output_type": "stream",
     "text": [
      "(96308, 1)\n",
      "(96308, 12, 1)\n",
      "(96308,)\n",
      "RMSE: 13.043\n",
      "MAPE: 18.096\n",
      "R2AJ: -0.194\n"
     ]
    }
   ],
   "source": [
    "from sklearn.metrics import mean_squared_error,r2_score\n",
    "# make a prediction\n",
    "yhat = model.predict(test_X)\n",
    "print(yhat.shape)\n",
    "yhat = yhat.reshape(yhat.shape[0], yhat.shape[1])\n",
    "test_X_ = test_X.reshape(test_X.shape[0],test_X.shape[1])\n",
    "# invert scaling for forecast\n",
    "print(test_X.shape)\n",
    "inv_yhat = np.concatenate((yhat, test_X_), axis=1)\n",
    "inv_yhat = scaler.inverse_transform(inv_yhat)\n",
    "inv_yhat = inv_yhat[:,0]\n",
    "print(inv_yhat.shape)\n",
    "# invert scaling for actual\n",
    "test_y = test_y.reshape((len(test_y), 1))\n",
    "inv_y = np.concatenate((test_y, test_X_), axis=1)\n",
    "inv_y = scaler.inverse_transform(inv_y)\n",
    "inv_y = inv_y[:,0]\n",
    "# calculate RMSE\n",
    "rmse = np.sqrt(mean_squared_error(inv_y, inv_yhat))\n",
    "print('RMSE: %.3f' % rmse)\n",
    "# MAPE\n",
    "def mean_absolute_percentage_error(y_true, y_pred): \n",
    "    y_true, y_pred = np.array(y_true), np.array(y_pred)\n",
    "    return np.mean(np.abs((y_true - y_pred) / y_true)) * 100\n",
    "mape= mean_absolute_percentage_error(inv_y, inv_yhat)\n",
    "print('MAPE: %.3f' % mape)\n",
    "print('R2AJ: %.3f' % history.history['val_coeff_determination'][-1])"
   ]
  },
  {
   "cell_type": "code",
   "execution_count": 14,
   "metadata": {
    "colab": {
     "base_uri": "https://localhost:8080/",
     "height": 284
    },
    "executionInfo": {
     "elapsed": 1197162,
     "status": "ok",
     "timestamp": 1608488722448,
     "user": {
      "displayName": "Daniel Muller",
      "photoUrl": "https://lh4.googleusercontent.com/-e8X2R53Jn7c/AAAAAAAAAAI/AAAAAAAAihw/wh30qwZZfIU/s64/photo.jpg",
      "userId": "10394194769251355223"
     },
     "user_tz": 180
    },
    "id": "yJ7x8v90LMbO",
    "outputId": "d4dbf695-9367-44f5-c6c7-798d3d0e8bab",
    "scrolled": true
   },
   "outputs": [
    {
     "data": {
      "image/png": "[encoded data removed]",
      "text/plain": [
       "<Figure size 432x288 with 1 Axes>"
      ]
     },
     "metadata": {
      "needs_background": "light"
     },
     "output_type": "display_data"
    }
   ],
   "source": [
    "## time steps, every step is one hour (you can easily convert the time step to the actual time index)\n",
    "## for a demonstration purpose, I only compare the predictions in 200 hours. \n",
    "\n",
    "aa=[x for x in range(200)]\n",
    "plt.plot(aa, inv_y[:200], marker='.', label=\"actual\")\n",
    "plt.plot(aa, inv_yhat[:200], 'r', label=\"prediction\")\n",
    "\n",
    "plt.ylabel('Velocidad', size=15)\n",
    "plt.xlabel('Time step', size=15)\n",
    "plt.legend(fontsize=15)\n",
    "plt.show()"
   ]
  },
  {
   "cell_type": "code",
   "execution_count": 15,
   "metadata": {},
   "outputs": [],
   "source": [
    "from __future__ import absolute_import, division, print_function, unicode_literals\n",
    "\n",
    "import tensorflow as tf\n",
    "\n",
    "tf.keras.backend.clear_session() "
   ]
  },
  {
   "cell_type": "code",
   "execution_count": 16,
   "metadata": {},
   "outputs": [],
   "source": [
    "model.save('Modelos/LSTM_3_BD_24_v2.h5')"
   ]
  },
  {
   "cell_type": "code",
   "execution_count": 17,
   "metadata": {
    "scrolled": true
   },
   "outputs": [],
   "source": [
    "#new_model = keras.models.load_model('modelo_prueba1.h5', custom_objects={ 'coeff_determination': coeff_determination})\n"
   ]
  }
 ],
 "metadata": {
  "accelerator": "GPU",
  "colab": {
   "collapsed_sections": [],
   "name": "TesisDaniel.ipynb",
   "provenance": []
  },
  "kernelspec": {
   "display_name": "Python [conda env:tf-gpu] *",
   "language": "python",
   "name": "conda-env-tf-gpu-py"
  },
  "language_info": {
   "codemirror_mode": {
    "name": "ipython",
    "version": 3
   },
   "file_extension": ".py",
   "mimetype": "text/x-python",
   "name": "python",
   "nbconvert_exporter": "python",
   "pygments_lexer": "ipython3",
   "version": "3.8.8"
  }
 },
 "nbformat": 4,
 "nbformat_minor": 1
}
